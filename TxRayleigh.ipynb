{
 "cells": [
  {
   "cell_type": "code",
   "execution_count": 1,
   "id": "173404f6-41cb-4819-97ec-04faf89a7e05",
   "metadata": {},
   "outputs": [
    {
     "name": "stderr",
     "output_type": "stream",
     "text": [
      "2023-01-12 15:39:08.482946: I tensorflow/core/platform/cpu_feature_guard.cc:193] This TensorFlow binary is optimized with oneAPI Deep Neural Network Library (oneDNN) to use the following CPU instructions in performance-critical operations:  AVX2 FMA\n",
      "To enable them in other operations, rebuild TensorFlow with the appropriate compiler flags.\n",
      "2023-01-12 15:39:09.611936: W tensorflow/stream_executor/platform/default/dso_loader.cc:64] Could not load dynamic library 'libcudart.so.11.0'; dlerror: libcudart.so.11.0: cannot open shared object file: No such file or directory\n",
      "2023-01-12 15:39:09.611979: I tensorflow/stream_executor/cuda/cudart_stub.cc:29] Ignore above cudart dlerror if you do not have a GPU set up on your machine.\n",
      "2023-01-12 15:39:09.763223: E tensorflow/stream_executor/cuda/cuda_blas.cc:2981] Unable to register cuBLAS factory: Attempting to register factory for plugin cuBLAS when one has already been registered\n",
      "2023-01-12 15:39:11.921969: W tensorflow/stream_executor/platform/default/dso_loader.cc:64] Could not load dynamic library 'libnvinfer.so.7'; dlerror: libnvinfer.so.7: cannot open shared object file: No such file or directory\n",
      "2023-01-12 15:39:11.922383: W tensorflow/stream_executor/platform/default/dso_loader.cc:64] Could not load dynamic library 'libnvinfer_plugin.so.7'; dlerror: libnvinfer_plugin.so.7: cannot open shared object file: No such file or directory\n",
      "2023-01-12 15:39:11.922409: W tensorflow/compiler/tf2tensorrt/utils/py_utils.cc:38] TF-TRT Warning: Cannot dlopen some TensorRT libraries. If you would like to use Nvidia GPU with TensorRT, please make sure the missing libraries mentioned above are installed properly.\n"
     ]
    }
   ],
   "source": [
    "import matplotlib\n",
    "import matplotlib.pyplot as plt\n",
    "import matplotlib.cm as cm\n",
    "import seaborn as sns\n",
    "import numpy as np\n",
    "from collections import OrderedDict\n",
    "\n",
    "from libs.commpy_mod import SISOFlatChannel\n",
    "\n",
    "from files_01_detection.qam_crazy import crazy_channel_propagate\n",
    "from files_01_detection.const_mod import generate_symbols, Model\n",
    "from files_01_detection.const_analyzer import plot_decision_boundary, theoretical_error, ser, plot_confusion_matrix, plot_symbols\n",
    " \n",
    "%matplotlib inline"
   ]
  },
  {
   "cell_type": "code",
   "execution_count": 2,
   "id": "8b0c1743-2023-425e-a8b5-727553137e53",
   "metadata": {},
   "outputs": [],
   "source": [
    "Mod = 'QAM'\n",
    "channel_type = 'awgn' # 'awgn' or 'crazy' or 'rayleigh'\n",
    "M            = 4      # PSK modulation\n",
    "total_num_symbols  = 30000    # Number of transmitted symbols to be used for training and test\n",
    "train_fraction = 0.8 # Fraction of whole data to be used for training (the remaining is for testing)\n",
    "SNR_dB       = 30      # Signal to noise ratio in dB     \n",
    "code_rate    = 1       # Rate of the used code\n",
    "Es           = 1       # Average symbol energy"
   ]
  },
  {
   "cell_type": "code",
   "execution_count": 3,
   "id": "cb532c99-7640-4944-8d05-a91327efc6e1",
   "metadata": {},
   "outputs": [],
   "source": [
    "symbs, indices, channel_output = Model(Mod, total_num_symbols, M, channel_type, Es, code_rate, SNR_dB)"
   ]
  },
  {
   "cell_type": "code",
   "execution_count": 4,
   "id": "25161a20-4ab5-4d9b-86bd-90cde201049d",
   "metadata": {},
   "outputs": [],
   "source": [
    "symbs_ = symbs[:]"
   ]
  },
  {
   "cell_type": "code",
   "execution_count": 5,
   "id": "ade8d135-c349-4759-929b-87791e4dc9aa",
   "metadata": {},
   "outputs": [],
   "source": [
    "indices = list(OrderedDict.fromkeys(indices))"
   ]
  },
  {
   "cell_type": "code",
   "execution_count": 7,
   "id": "9895b87b-9eb7-4c29-9aa9-b4a1723b3631",
   "metadata": {},
   "outputs": [],
   "source": [
    "symbs = np.array(list(OrderedDict.fromkeys(symbs))).reshape(1,-1)"
   ]
  },
  {
   "cell_type": "code",
   "execution_count": 8,
   "id": "3a4eccad-56e0-4147-af12-7b6aff18df7c",
   "metadata": {},
   "outputs": [],
   "source": [
    "channel_output = channel_output.reshape(-1,1)"
   ]
  },
  {
   "cell_type": "code",
   "execution_count": 9,
   "id": "2ad30eeb-b782-4d74-be7f-05230d7214ef",
   "metadata": {},
   "outputs": [],
   "source": [
    "symb_min = []\n",
    "for a in channel_output:\n",
    "    symb_min.append(symbs[0, np.argmin(np.abs(a - symbs))])"
   ]
  },
  {
   "cell_type": "code",
   "execution_count": 10,
   "id": "c6a151c2-5c4a-4b42-9a71-9ad299307fb9",
   "metadata": {},
   "outputs": [],
   "source": [
    "d = dict(zip(symbs[0], indices))"
   ]
  },
  {
   "cell_type": "code",
   "execution_count": 11,
   "id": "f815f7b3-c929-4ce4-b267-94b2a5ac198b",
   "metadata": {
    "scrolled": true,
    "tags": []
   },
   "outputs": [],
   "source": [
    "output = []\n",
    "for i in range(total_num_symbols):\n",
    "    output.append(d[symb_min[i]])"
   ]
  },
  {
   "cell_type": "code",
   "execution_count": 12,
   "id": "dcae9b88-b0d3-4613-b488-07daf2d37771",
   "metadata": {
    "scrolled": true,
    "tags": []
   },
   "outputs": [],
   "source": [
    "input = []\n",
    "for i in range(total_num_symbols):\n",
    "    input.append(d[symbs_[i]])"
   ]
  },
  {
   "cell_type": "code",
   "execution_count": 2,
   "id": "700f790e-cc1b-4e11-8c5a-e9018060dc5f",
   "metadata": {},
   "outputs": [],
   "source": [
    "def error_symb(Mod, total_num_symbols, M, channel_type, Es, code_rate, SNR_dB):\n",
    "    symbs, indices, channel_output = Model(Mod, total_num_symbols, M, channel_type, Es, code_rate, SNR_dB)\n",
    "    symbs_ = symbs[:]\n",
    "    indices = list(OrderedDict.fromkeys(indices))\n",
    "    symbs = np.array(list(OrderedDict.fromkeys(symbs))).reshape(1,-1)\n",
    "    channel_output = channel_output.reshape(-1,1)\n",
    "    \n",
    "    symb_min = []\n",
    "    for a in channel_output:\n",
    "        symb_min.append(symbs[0, np.argmin(np.abs(a - symbs))])\n",
    "    \n",
    "    d = dict(zip(symbs[0], indices))\n",
    "    \n",
    "    input = []\n",
    "    for i in range(total_num_symbols):\n",
    "        input.append(d[symbs_[i]])\n",
    "\n",
    "    output = []\n",
    "    for i in range(total_num_symbols):\n",
    "        output.append(d[symb_min[i]])\n",
    "    \n",
    "    return np.sum(input != output)/total_num_symbols"
   ]
  },
  {
   "cell_type": "code",
   "execution_count": null,
   "id": "0dcc5937-7c6d-411f-831a-284fa7a8f74c",
   "metadata": {},
   "outputs": [],
   "source": []
  },
  {
   "cell_type": "markdown",
   "id": "ff8061c3-bd73-4b94-b272-c252b65a8591",
   "metadata": {},
   "source": [
    "# Geração do gráfico"
   ]
  },
  {
   "cell_type": "markdown",
   "id": "617eb2a0-d297-4378-9a35-c91da5acc43d",
   "metadata": {},
   "source": [
    "### 12dB - 18dB"
   ]
  },
  {
   "cell_type": "code",
   "execution_count": 91,
   "id": "fd9d9251-105a-4e86-8293-072d5dac148c",
   "metadata": {},
   "outputs": [],
   "source": [
    "Mod = \"QAM\"\n",
    "channel_type = \"rayleigh\"\n",
    "M = 16\n",
    "Es = 1\n",
    "code_rate = 1\n",
    "init_scale = 12"
   ]
  },
  {
   "cell_type": "code",
   "execution_count": 92,
   "id": "2f91be7c-b8ef-49c3-9afa-7a66b88a866a",
   "metadata": {},
   "outputs": [],
   "source": [
    "Teo_SNRs = [theoretical_error(Mod, M, init_scale + i, channel_type, epb=False) for i in range(7)]"
   ]
  },
  {
   "cell_type": "code",
   "execution_count": 93,
   "id": "a74ea914-a47f-4ab8-acc0-6f9cbbaf5446",
   "metadata": {},
   "outputs": [
    {
     "data": {
      "text/plain": [
       "[0.10592588178940965,\n",
       " 0.0859729564871829,\n",
       " 0.06949839035461836,\n",
       " 0.0559937345331738,\n",
       " 0.04498970473645186,\n",
       " 0.036067320963629246,\n",
       " 0.0288618444083954]"
      ]
     },
     "execution_count": 93,
     "metadata": {},
     "output_type": "execute_result"
    }
   ],
   "source": [
    "Teo_SNRs"
   ]
  },
  {
   "cell_type": "code",
   "execution_count": 101,
   "id": "b7aa77df-31a2-4177-bded-4b372e40eb2e",
   "metadata": {},
   "outputs": [],
   "source": [
    "error_rate = [error_symb(Mod, int(100 / (Teo_SNRs[i])), M, channel_type, Es, code_rate, init_scale + i) * 1 for i in range(7)]"
   ]
  },
  {
   "cell_type": "code",
   "execution_count": null,
   "id": "92fdb6bc-552d-4258-858a-a2fa2e40011b",
   "metadata": {},
   "outputs": [],
   "source": [
    "int(100 / (Teo_SNRs[i]))"
   ]
  },
  {
   "cell_type": "code",
   "execution_count": 102,
   "id": "d0a1b353-33fc-4a0c-a7fd-8b9c9816af4b",
   "metadata": {},
   "outputs": [
    {
     "data": {
      "text/plain": [
       "[1e-06, 1e-06, 1e-06, 1e-06, 1e-06, 1e-06, 1e-06]"
      ]
     },
     "execution_count": 102,
     "metadata": {},
     "output_type": "execute_result"
    }
   ],
   "source": [
    "error_rate"
   ]
  },
  {
   "cell_type": "code",
   "execution_count": 103,
   "id": "f0353bc0-f353-40c5-b985-e778c2391b87",
   "metadata": {},
   "outputs": [
    {
     "data": {
      "image/png": "[encoded data removed]",
      "text/plain": [
       "<Figure size 640x480 with 1 Axes>"
      ]
     },
     "metadata": {},
     "output_type": "display_data"
    }
   ],
   "source": [
    "import matplotlib.ticker as tick\n",
    "\n",
    "y1 = Teo_SNRs\n",
    "x = range(init_scale, init_scale + 7)\n",
    "y2 = error_rate\n",
    "\n",
    "fig, ax = plt.subplots(1,1)\n",
    "\n",
    "ax.plot(x, y1, 'go-', label='Theoretical Curve', linewidth=2)\n",
    "ax.plot(x, y2, 'rs--', label='Empirical Curve')\n",
    "ax.set_title('Error per Symb')\n",
    "ax.set_xlabel('SNR_dB')\n",
    "ax.set_ylabel('Error rate')\n",
    "\n",
    "def y_fmt(x, y):\n",
    "    return '{:2.1e}'.format(x)\n",
    "\n",
    "ax.yaxis.set_major_formatter(tick.FuncFormatter(y_fmt))\n",
    "#plt.plot(x2, y2, 'rs--',  label='line 2')\n",
    "\n",
    "plt.legend()\n",
    "plt.show()"
   ]
  },
  {
   "cell_type": "code",
   "execution_count": null,
   "id": "082fafaf-f8f4-40b1-9502-59f5bbf554d9",
   "metadata": {},
   "outputs": [],
   "source": []
  }
 ],
 "metadata": {
  "kernelspec": {
   "display_name": "Python 3 (ipykernel)",
   "language": "python",
   "name": "python3"
  },
  "language_info": {
   "codemirror_mode": {
    "name": "ipython",
    "version": 3
   },
   "file_extension": ".py",
   "mimetype": "text/x-python",
   "name": "python",
   "nbconvert_exporter": "python",
   "pygments_lexer": "ipython3",
   "version": "3.10.8"
  }
 },
 "nbformat": 4,
 "nbformat_minor": 5
}
