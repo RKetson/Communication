{
 "cells": [
  {
   "cell_type": "code",
   "execution_count": 1,
   "id": "caaf0c20-8979-441c-a434-f07a361102c5",
   "metadata": {},
   "outputs": [],
   "source": [
    "from Random_Data.Gerador import Train_Data"
   ]
  },
  {
   "cell_type": "code",
   "execution_count": null,
   "id": "044be95a-f10a-4faf-9a4d-52467d523a14",
   "metadata": {},
   "outputs": [],
   "source": []
  }
 ],
 "metadata": {
  "kernelspec": {
   "display_name": "Python 3 (ipykernel)",
   "language": "python",
   "name": "python3"
  },
  "language_info": {
   "codemirror_mode": {
    "name": "ipython",
    "version": 3
   },
   "file_extension": ".py",
   "mimetype": "text/x-python",
   "name": "python",
   "nbconvert_exporter": "python",
   "pygments_lexer": "ipython3",
   "version": "3.10.4"
  }
 },
 "nbformat": 4,
 "nbformat_minor": 5
}
