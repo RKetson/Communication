{
 "cells": [
  {
   "cell_type": "markdown",
   "id": "d3169f48-4cc3-422d-8e20-6aa2e5fa13b5",
   "metadata": {},
   "source": [
    "# Problema de modulação QAM"
   ]
  },
  {
   "cell_type": "code",
   "execution_count": 18,
   "id": "cc3ad8a3-3d83-47f5-a1c8-81e76f1a47b8",
   "metadata": {},
   "outputs": [],
   "source": [
    "import commpy.modulation as cm\n",
    "import commpy.utilities as cu\n",
    "M = 16\n",
    "sig_mod = cm.QAMModem(M)"
   ]
  },
  {
   "cell_type": "code",
   "execution_count": 19,
   "id": "6062cc44-2fed-4380-b58e-e6da2021bf13",
   "metadata": {},
   "outputs": [
    {
     "name": "stdout",
     "output_type": "stream",
     "text": [
      "Vetor de mapeamento: \n",
      "[-1.  0.  1.  2.]\n",
      "\n",
      "\n",
      "Vetor de permutação: \n",
      "[(-1.0, -1.0), (-1.0, 0.0), (-1.0, 1.0), (-1.0, 2.0), (0.0, -1.0), (0.0, 0.0), (0.0, 1.0), (0.0, 2.0), (1.0, -1.0), (1.0, 0.0), (1.0, 1.0), (1.0, 2.0), (2.0, -1.0), (2.0, 0.0), (2.0, 1.0), (2.0, 2.0)]\n",
      "\n",
      "\n",
      "constelação resultante: \n",
      "[(-3-3j), (-3-1j), (-3+1j), (-3+3j), (-1-3j), (-1-1j), (-1+1j), (-1+3j), (1-3j), (1-1j), (1+1j), (1+3j), (3-3j), (3-1j), (3+1j), (3+3j)]\n"
     ]
    }
   ],
   "source": [
    "from itertools import product\n",
    "from numpy import sqrt, arange, real, imag, log2, array\n",
    "\n",
    "def _constellation_symbol(i):\n",
    "    return (2 * i[0] - 1) + (2 * i[1] - 1) * (1j)\n",
    "\n",
    "mapping_array = arange(1, sqrt(M) + 1) - (sqrt(M) / 2)\n",
    "print(f'Vetor de mapeamento: \\n{mapping_array}\\n\\n')\n",
    "\n",
    "print(f'Vetor de permutação: \\n{list(product(mapping_array, repeat=2))}\\n\\n')\n",
    "\n",
    "constellation = list(map(_constellation_symbol,\n",
    "                              list(product(mapping_array, repeat=2))))\n",
    "print(f'constelação resultante: \\n{constellation}')"
   ]
  },
  {
   "cell_type": "code",
   "execution_count": 20,
   "id": "355fdee4-f06a-4963-b50a-5e166e26e154",
   "metadata": {},
   "outputs": [
    {
     "data": {
      "text/plain": [
       "[<matplotlib.lines.Line2D at 0x7fcb7d3c4be0>]"
      ]
     },
     "execution_count": 20,
     "metadata": {},
     "output_type": "execute_result"
    },
    {
     "data": {
      "image/png": "[encoded data removed]",
      "text/plain": [
       "<Figure size 640x480 with 1 Axes>"
      ]
     },
     "metadata": {},
     "output_type": "display_data"
    }
   ],
   "source": [
    "import matplotlib.pyplot as plt\n",
    "\n",
    "plt.plot(real(constellation), imag(constellation), 'rx')"
   ]
  },
  {
   "cell_type": "code",
   "execution_count": null,
   "id": "b9ce0190-2f14-44bf-a106-2d010047e032",
   "metadata": {},
   "outputs": [],
   "source": []
  }
 ],
 "metadata": {
  "kernelspec": {
   "display_name": "Python 3 (ipykernel)",
   "language": "python",
   "name": "python3"
  },
  "language_info": {
   "codemirror_mode": {
    "name": "ipython",
    "version": 3
   },
   "file_extension": ".py",
   "mimetype": "text/x-python",
   "name": "python",
   "nbconvert_exporter": "python",
   "pygments_lexer": "ipython3",
   "version": "3.10.8"
  }
 },
 "nbformat": 4,
 "nbformat_minor": 5
}
