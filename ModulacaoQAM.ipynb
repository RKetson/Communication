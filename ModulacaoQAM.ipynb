{
 "cells": [
  {
   "cell_type": "markdown",
   "id": "d3169f48-4cc3-422d-8e20-6aa2e5fa13b5",
   "metadata": {},
   "source": [
    "# Problema de modulação QAM"
   ]
  },
  {
   "cell_type": "code",
   "execution_count": 2,
   "id": "cc3ad8a3-3d83-47f5-a1c8-81e76f1a47b8",
   "metadata": {},
   "outputs": [
    {
     "ename": "ValueError",
     "evalue": "Constellation length must be a power of 2.",
     "output_type": "error",
     "traceback": [
      "\u001b[0;31m---------------------------------------------------------------------------\u001b[0m",
      "\u001b[0;31mValueError\u001b[0m                                Traceback (most recent call last)",
      "Cell \u001b[0;32mIn[2], line 3\u001b[0m\n\u001b[1;32m      1\u001b[0m \u001b[38;5;28;01mimport\u001b[39;00m \u001b[38;5;21;01mcommpy\u001b[39;00m\u001b[38;5;21;01m.\u001b[39;00m\u001b[38;5;21;01mmodulation\u001b[39;00m \u001b[38;5;28;01mas\u001b[39;00m \u001b[38;5;21;01mcm\u001b[39;00m\n\u001b[1;32m      2\u001b[0m M \u001b[38;5;241m=\u001b[39m \u001b[38;5;241m8\u001b[39m\n\u001b[0;32m----> 3\u001b[0m \u001b[43mcm\u001b[49m\u001b[38;5;241;43m.\u001b[39;49m\u001b[43mQAMModem\u001b[49m\u001b[43m(\u001b[49m\u001b[43mM\u001b[49m\u001b[43m)\u001b[49m\n",
      "File \u001b[0;32m~/anaconda3/envs/ML/lib/python3.10/site-packages/commpy/modulation.py:248\u001b[0m, in \u001b[0;36mQAMModem.__init__\u001b[0;34m(self, m)\u001b[0m\n\u001b[1;32m    245\u001b[0m     \u001b[38;5;28;01mreturn\u001b[39;00m (\u001b[38;5;241m2\u001b[39m \u001b[38;5;241m*\u001b[39m i[\u001b[38;5;241m0\u001b[39m] \u001b[38;5;241m-\u001b[39m \u001b[38;5;241m1\u001b[39m) \u001b[38;5;241m+\u001b[39m (\u001b[38;5;241m2\u001b[39m \u001b[38;5;241m*\u001b[39m i[\u001b[38;5;241m1\u001b[39m] \u001b[38;5;241m-\u001b[39m \u001b[38;5;241m1\u001b[39m) \u001b[38;5;241m*\u001b[39m (\u001b[38;5;241m1\u001b[39mj)\n\u001b[1;32m    247\u001b[0m mapping_array \u001b[38;5;241m=\u001b[39m arange(\u001b[38;5;241m1\u001b[39m, sqrt(m) \u001b[38;5;241m+\u001b[39m \u001b[38;5;241m1\u001b[39m) \u001b[38;5;241m-\u001b[39m (sqrt(m) \u001b[38;5;241m/\u001b[39m \u001b[38;5;241m2\u001b[39m)\n\u001b[0;32m--> 248\u001b[0m \u001b[38;5;28mself\u001b[39m\u001b[38;5;241m.\u001b[39mconstellation \u001b[38;5;241m=\u001b[39m \u001b[38;5;28mlist\u001b[39m(\u001b[38;5;28mmap\u001b[39m(_constellation_symbol,\n\u001b[1;32m    249\u001b[0m                               \u001b[38;5;28mlist\u001b[39m(product(mapping_array, repeat\u001b[38;5;241m=\u001b[39m\u001b[38;5;241m2\u001b[39m))))\n",
      "File \u001b[0;32m~/anaconda3/envs/ML/lib/python3.10/site-packages/commpy/modulation.py:158\u001b[0m, in \u001b[0;36mModem.constellation\u001b[0;34m(self, value)\u001b[0m\n\u001b[1;32m    156\u001b[0m num_bits_symbol \u001b[38;5;241m=\u001b[39m log2(\u001b[38;5;28mlen\u001b[39m(value))\n\u001b[1;32m    157\u001b[0m \u001b[38;5;28;01mif\u001b[39;00m num_bits_symbol \u001b[38;5;241m!=\u001b[39m \u001b[38;5;28mint\u001b[39m(num_bits_symbol):\n\u001b[0;32m--> 158\u001b[0m     \u001b[38;5;28;01mraise\u001b[39;00m \u001b[38;5;167;01mValueError\u001b[39;00m(\u001b[38;5;124m'\u001b[39m\u001b[38;5;124mConstellation length must be a power of 2.\u001b[39m\u001b[38;5;124m'\u001b[39m)\n\u001b[1;32m    160\u001b[0m \u001b[38;5;66;03m# Set constellation as an array\u001b[39;00m\n\u001b[1;32m    161\u001b[0m \u001b[38;5;28mself\u001b[39m\u001b[38;5;241m.\u001b[39m_constellation \u001b[38;5;241m=\u001b[39m array(value)\n",
      "\u001b[0;31mValueError\u001b[0m: Constellation length must be a power of 2."
     ]
    }
   ],
   "source": [
    "import commpy.modulation as cm\n",
    "M = 8\n",
    "cm.QAMModem(M)"
   ]
  },
  {
   "cell_type": "code",
   "execution_count": 16,
   "id": "6062cc44-2fed-4380-b58e-e6da2021bf13",
   "metadata": {},
   "outputs": [
    {
     "name": "stdout",
     "output_type": "stream",
     "text": [
      "Vetor de mapeamento: \n",
      "[-0.41421356  0.58578644  1.58578644]\n",
      "\n",
      "\n",
      "Vetor de permutação: \n",
      "[(-0.41421356237309515, -0.41421356237309515), (-0.41421356237309515, 0.5857864376269049), (-0.41421356237309515, 1.5857864376269049), (0.5857864376269049, -0.41421356237309515), (0.5857864376269049, 0.5857864376269049), (0.5857864376269049, 1.5857864376269049), (1.5857864376269049, -0.41421356237309515), (1.5857864376269049, 0.5857864376269049), (1.5857864376269049, 1.5857864376269049)]\n",
      "\n",
      "\n",
      "constelação resultante: \n",
      "[(-1.8284271247461903-1.8284271247461903j), (-1.8284271247461903+0.1715728752538097j), (-1.8284271247461903+2.1715728752538097j), (0.1715728752538097-1.8284271247461903j), (0.1715728752538097+0.1715728752538097j), (0.1715728752538097+2.1715728752538097j), (2.1715728752538097-1.8284271247461903j), (2.1715728752538097+0.1715728752538097j), (2.1715728752538097+2.1715728752538097j)]\n"
     ]
    }
   ],
   "source": [
    "from itertools import product\n",
    "from numpy import sqrt, arange, real, imag\n",
    "\n",
    "def _constellation_symbol(i):\n",
    "    return (2 * i[0] - 1) + (2 * i[1] - 1) * (1j)\n",
    "\n",
    "mapping_array = arange(1, sqrt(M) + 1) - (sqrt(M) / 2)\n",
    "print(f'Vetor de mapeamento: \\n{mapping_array}\\n\\n')\n",
    "\n",
    "print(f'Vetor de permutação: \\n{list(product(mapping_array, repeat=2))}\\n\\n')\n",
    "\n",
    "constellation = list(map(_constellation_symbol,\n",
    "                              list(product(mapping_array, repeat=2))))\n",
    "print(f'constelação resultante: \\n{constellation}')"
   ]
  },
  {
   "cell_type": "code",
   "execution_count": 12,
   "id": "355fdee4-f06a-4963-b50a-5e166e26e154",
   "metadata": {},
   "outputs": [
    {
     "data": {
      "text/plain": [
       "[<matplotlib.lines.Line2D at 0x7f120efd1cc0>]"
      ]
     },
     "execution_count": 12,
     "metadata": {},
     "output_type": "execute_result"
    },
    {
     "data": {
      "image/png": "[encoded data removed]",
      "text/plain": [
       "<Figure size 640x480 with 1 Axes>"
      ]
     },
     "metadata": {},
     "output_type": "display_data"
    }
   ],
   "source": [
    "import matplotlib.pyplot as plt\n",
    "\n",
    "plt.plot(real(constellation), imag(constellation), 'rx')"
   ]
  },
  {
   "cell_type": "code",
   "execution_count": null,
   "id": "7fbe5e89-763f-4365-b8bd-4da5c361a4be",
   "metadata": {},
   "outputs": [],
   "source": []
  }
 ],
 "metadata": {
  "kernelspec": {
   "display_name": "Python 3 (ipykernel)",
   "language": "python",
   "name": "python3"
  },
  "language_info": {
   "codemirror_mode": {
    "name": "ipython",
    "version": 3
   },
   "file_extension": ".py",
   "mimetype": "text/x-python",
   "name": "python",
   "nbconvert_exporter": "python",
   "pygments_lexer": "ipython3",
   "version": "3.10.8"
  }
 },
 "nbformat": 4,
 "nbformat_minor": 5
}
