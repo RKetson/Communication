{
 "cells": [
  {
   "cell_type": "markdown",
   "id": "0a25362e-7964-48e2-9b31-0caefd3eff98",
   "metadata": {
    "tags": []
   },
   "source": [
    "# Treinamento de Rede Neural com SNR aleatório"
   ]
  },
  {
   "cell_type": "code",
   "execution_count": 1,
   "id": "00aefe53-addb-47d1-8359-9811b4f0e5c0",
   "metadata": {},
   "outputs": [
    {
     "name": "stderr",
     "output_type": "stream",
     "text": [
      "2023-03-07 13:23:29.145840: W tensorflow/stream_executor/platform/default/dso_loader.cc:64] Could not load dynamic library 'libcudart.so.11.0'; dlerror: libcudart.so.11.0: cannot open shared object file: No such file or directory\n",
      "2023-03-07 13:23:29.145864: I tensorflow/stream_executor/cuda/cudart_stub.cc:29] Ignore above cudart dlerror if you do not have a GPU set up on your machine.\n",
      "2023-03-07 13:23:29.262444: E tensorflow/stream_executor/cuda/cuda_blas.cc:2981] Unable to register cuBLAS factory: Attempting to register factory for plugin cuBLAS when one has already been registered\n",
      "2023-03-07 13:23:30.763916: W tensorflow/stream_executor/platform/default/dso_loader.cc:64] Could not load dynamic library 'libnvinfer.so.7'; dlerror: libnvinfer.so.7: cannot open shared object file: No such file or directory\n",
      "2023-03-07 13:23:30.764011: W tensorflow/stream_executor/platform/default/dso_loader.cc:64] Could not load dynamic library 'libnvinfer_plugin.so.7'; dlerror: libnvinfer_plugin.so.7: cannot open shared object file: No such file or directory\n",
      "2023-03-07 13:23:30.764022: W tensorflow/compiler/tf2tensorrt/utils/py_utils.cc:38] TF-TRT Warning: Cannot dlopen some TensorRT libraries. If you would like to use Nvidia GPU with TensorRT, please make sure the missing libraries mentioned above are installed properly.\n"
     ]
    }
   ],
   "source": [
    "import matplotlib\n",
    "import matplotlib.pyplot as plt\n",
    "import matplotlib.cm as cm\n",
    "import seaborn as sns\n",
    "import numpy as np\n",
    "import tensorflow as tf\n",
    "\n",
    "from sklearn.preprocessing import StandardScaler\n",
    "from sklearn.pipeline import Pipeline\n",
    "\n",
    "from libs.commpy_mod import SISOFlatChannel\n",
    "\n",
    "from files_01_detection.const_mod import generate_symbols, Model\n",
    "from files_01_detection.const_analyzer import plot_decision_boundary, theoretical_error, ser, plot_confusion_matrix, plot_symbols\n",
    " \n",
    "%matplotlib inline"
   ]
  },
  {
   "cell_type": "code",
   "execution_count": 2,
   "id": "258bd235-88f3-42ab-a2f2-ceaaad3f990c",
   "metadata": {},
   "outputs": [],
   "source": [
    "total_num_symbols  = 1000000    # Number of transmitted symbols to be used for training and test\n",
    "train_fraction = 0.5 # Fraction of whole data to be used for training (the remaining is for testing)\n",
    "code_rate    = 1       # Rate of the used code\n",
    "Es           = 1       # Average symbol energy\n",
    "Mod = 'PSK'\n",
    "channel_type = 'rayleigh' # 'awgn' or 'crazy'\n",
    "M            = 8      # PSK modulation"
   ]
  },
  {
   "cell_type": "code",
   "execution_count": 39,
   "id": "3a9170b1-16da-4aa7-9bac-556b46bb81c0",
   "metadata": {},
   "outputs": [],
   "source": [
    "def conjunto(Mod, total_num_symbols, M, channel_type, Es, code_rate, SNR_dB, symb=False, scaler=None):\n",
    "\n",
    "    symbs, indices, channel_output = Model(Mod, total_num_symbols, M, channel_type, Es, code_rate, SNR_dB[0])\n",
    "    x = np.stack([np.real(channel_output[0][:]),\n",
    "                    np.imag(channel_output[0][:])], axis=1)\n",
    "\n",
    "    if scaler is not None:\n",
    "        x = scaler(np.concatenate((x, np.array([channel_output[1]]).T), axis=1))\n",
    "    else:\n",
    "        x = np.concatenate((x, np.array([channel_output[1]]).T), axis=1)\n",
    "    \n",
    "    x = x.reshape(1,-1,3)\n",
    "    \n",
    "    for i in range(1, len(SNR_dB)):\n",
    "        a, b, c = Model(Mod, total_num_symbols, M, channel_type, Es, code_rate, SNR_dB[i])\n",
    "        \n",
    "        d = np.stack([np.real(c[0][:]), np.imag(c[0][:])], axis=1)\n",
    "        \n",
    "        if scaler is not None:\n",
    "            d = scaler(np.concatenate((d, np.array([c[1]]).T), axis=1))\n",
    "        else:\n",
    "            d = np.concatenate((d, np.array([c[1]]).T), axis=1)\n",
    "        \n",
    "        symbs = np.vstack((symbs, a))\n",
    "        indices = np.vstack((indices, b))\n",
    "        channel_output = np.vstack((channel_output, c))\n",
    "        x = np.vstack((x, d.reshape(1,-1,3)))\n",
    "    \n",
    "    y = np.float_(indices)\n",
    "        \n",
    "    if symb:\n",
    "        return x, y, symbs\n",
    "    else:\n",
    "        return x, y"
   ]
  },
  {
   "cell_type": "code",
   "execution_count": 4,
   "id": "c8f1bcc1-5a31-4c95-8c66-e1281f6ac674",
   "metadata": {},
   "outputs": [
    {
     "data": {
      "text/plain": [
       "'\\n    indices = np.array([])\\n    symbs = np.array([])\\n    channel_output = np.array([])\\n    alpha = np.array([])\\n    for i in range(total_num_symbols):\\n        a, b, c = Model(Mod, 1, M, channel_type, Es, code_rate, np.random.randint(min, max))\\n        symbs = np.append(symbs, a)\\n        indices = np.append(indices, b)\\n        channel_output = np.append(channel_output, c[0])\\n        alpha = np.append(alpha, c[1])\\n        \\n    x = np.stack([np.real(channel_output[:]),\\n                        np.imag(channel_output[:])], axis=1)\\n    x = np.concatenate((x, np.array([alpha]).T), axis=1)\\n    \\n    y = np.float_(indices)\\n'"
      ]
     },
     "execution_count": 4,
     "metadata": {},
     "output_type": "execute_result"
    }
   ],
   "source": [
    "def Train_Data(Mod, total_num_symbols, M, channel_type, Es, code_rate, min, max):\n",
    "\n",
    "    symbs, indices, channel_output = Model(Mod, total_num_symbols, M, channel_type, Es, code_rate, [min, max])\n",
    "    x = np.stack([np.real(channel_output[0][:]),\n",
    "                    np.imag(channel_output[0][:])], axis=1)\n",
    "    x = np.concatenate((x, np.array([np.real(channel_output[1])]).T), axis=1)\n",
    "    \n",
    "    y = np.float_(indices[0])\n",
    "    \n",
    "    return x, y, symbs\n",
    "\"\"\"\n",
    "    indices = np.array([])\n",
    "    symbs = np.array([])\n",
    "    channel_output = np.array([])\n",
    "    alpha = np.array([])\n",
    "    for i in range(total_num_symbols):\n",
    "        a, b, c = Model(Mod, 1, M, channel_type, Es, code_rate, np.random.randint(min, max))\n",
    "        symbs = np.append(symbs, a)\n",
    "        indices = np.append(indices, b)\n",
    "        channel_output = np.append(channel_output, c[0])\n",
    "        alpha = np.append(alpha, c[1])\n",
    "        \n",
    "    x = np.stack([np.real(channel_output[:]),\n",
    "                        np.imag(channel_output[:])], axis=1)\n",
    "    x = np.concatenate((x, np.array([alpha]).T), axis=1)\n",
    "    \n",
    "    y = np.float_(indices)\n",
    "\"\"\""
   ]
  },
  {
   "cell_type": "code",
   "execution_count": 24,
   "id": "f3cfb288-c243-44e6-8f10-7f1a7c0f59cd",
   "metadata": {},
   "outputs": [],
   "source": [
    "x_out, y_out, symbs = Train_Data(Mod, total_num_symbols, M, channel_type, Es, code_rate, 5, 30)"
   ]
  },
  {
   "cell_type": "code",
   "execution_count": 25,
   "id": "32fe59e1-aad4-47e6-a683-eef8657652bf",
   "metadata": {},
   "outputs": [],
   "source": [
    "x_out.tofile('x_rand.dat')\n",
    "y_out.tofile('y_rand.dat')\n",
    "symbs.tofile('symb.dat')"
   ]
  },
  {
   "cell_type": "code",
   "execution_count": 11,
   "id": "94705521-39a7-4daa-ab0c-54eccfde1505",
   "metadata": {},
   "outputs": [],
   "source": [
    "x_out = np.fromfile('x_rand.dat', dtype=np.dtype('float64')).reshape((-1,3))\n",
    "y_out = np.fromfile('y_rand.dat', dtype=np.dtype('float64'))\n",
    "symbs = np.fromfile('symb.dat', dtype=np.dtype('complex128')).reshape((1,-1))"
   ]
  },
  {
   "cell_type": "code",
   "execution_count": 28,
   "id": "fbd8dcca-a54a-4a25-b52a-ce27be491dc9",
   "metadata": {},
   "outputs": [],
   "source": [
    "# Generate dataset\n",
    "# Train\n",
    "train_size = int(train_fraction*total_num_symbols) #data used for training\n",
    "y_train = y_out[:train_size]\n",
    "X_train = x_out[:train_size]\n",
    "\n",
    "# Test\n",
    "y_test = y_out[train_size:]\n",
    "X_test = x_out[train_size:]\n",
    "\n",
    "scaler = StandardScaler()\n",
    "scaler.fit(X_train)  # Don't cheat - fit only on training data\n",
    "X_train = scaler.transform(X_train)\n",
    "X_test = scaler.transform(X_test)\n"
   ]
  },
  {
   "cell_type": "code",
   "execution_count": 29,
   "id": "e378aa92-2fe2-40a2-b313-54fe0f7b6e79",
   "metadata": {},
   "outputs": [
    {
     "ename": "KeyboardInterrupt",
     "evalue": "",
     "output_type": "error",
     "traceback": [
      "\u001b[0;31m---------------------------------------------------------------------------\u001b[0m",
      "\u001b[0;31mKeyboardInterrupt\u001b[0m                         Traceback (most recent call last)",
      "Input \u001b[0;32mIn [29]\u001b[0m, in \u001b[0;36m<cell line: 1>\u001b[0;34m()\u001b[0m\n\u001b[0;32m----> 1\u001b[0m \u001b[43mplot_symbols\u001b[49m\u001b[43m(\u001b[49m\u001b[43mX_train\u001b[49m\u001b[43m,\u001b[49m\u001b[43m \u001b[49m\u001b[43my_train\u001b[49m\u001b[43m,\u001b[49m\u001b[43m \u001b[49m\u001b[43mM\u001b[49m\u001b[43m,\u001b[49m\u001b[43m \u001b[49m\u001b[43msymbs\u001b[49m\u001b[43m)\u001b[49m\n",
      "File \u001b[0;32m~/ML-DL/Communication/files_01_detection/const_analyzer.py:169\u001b[0m, in \u001b[0;36mplot_symbols\u001b[0;34m(X_train, y_train, M, symbs)\u001b[0m\n\u001b[1;32m    166\u001b[0m plt\u001b[38;5;241m.\u001b[39mplot(np\u001b[38;5;241m.\u001b[39mreal(symbs), np\u001b[38;5;241m.\u001b[39mimag(symbs), \u001b[38;5;124m'\u001b[39m\u001b[38;5;124mrx\u001b[39m\u001b[38;5;124m'\u001b[39m)\n\u001b[1;32m    167\u001b[0m plt\u001b[38;5;241m.\u001b[39mlegend(title\u001b[38;5;241m=\u001b[39m\u001b[38;5;124m'\u001b[39m\u001b[38;5;124mClasses\u001b[39m\u001b[38;5;124m'\u001b[39m, bbox_to_anchor\u001b[38;5;241m=\u001b[39m(\u001b[38;5;241m1\u001b[39m, \u001b[38;5;241m1\u001b[39m), loc\u001b[38;5;241m=\u001b[39m\u001b[38;5;124m'\u001b[39m\u001b[38;5;124mupper left\u001b[39m\u001b[38;5;124m'\u001b[39m, ncol\u001b[38;5;241m=\u001b[39m\u001b[38;5;241m2\u001b[39m, handleheight\u001b[38;5;241m=\u001b[39m\u001b[38;5;241m2\u001b[39m, labelspacing\u001b[38;5;241m=\u001b[39m\u001b[38;5;241m0.05\u001b[39m, frameon\u001b[38;5;241m=\u001b[39m\u001b[38;5;28;01mFalse\u001b[39;00m)\n\u001b[0;32m--> 169\u001b[0m \u001b[43mplt\u001b[49m\u001b[38;5;241;43m.\u001b[39;49m\u001b[43mshow\u001b[49m\u001b[43m(\u001b[49m\u001b[43m)\u001b[49m\n",
      "File \u001b[0;32m~/anaconda3/envs/DL-22/lib/python3.10/site-packages/matplotlib/pyplot.py:389\u001b[0m, in \u001b[0;36mshow\u001b[0;34m(*args, **kwargs)\u001b[0m\n\u001b[1;32m    345\u001b[0m \u001b[38;5;124;03m\"\"\"\u001b[39;00m\n\u001b[1;32m    346\u001b[0m \u001b[38;5;124;03mDisplay all open figures.\u001b[39;00m\n\u001b[1;32m    347\u001b[0m \n\u001b[0;32m   (...)\u001b[0m\n\u001b[1;32m    386\u001b[0m \u001b[38;5;124;03mexplicitly there.\u001b[39;00m\n\u001b[1;32m    387\u001b[0m \u001b[38;5;124;03m\"\"\"\u001b[39;00m\n\u001b[1;32m    388\u001b[0m _warn_if_gui_out_of_main_thread()\n\u001b[0;32m--> 389\u001b[0m \u001b[38;5;28;01mreturn\u001b[39;00m \u001b[43m_get_backend_mod\u001b[49m\u001b[43m(\u001b[49m\u001b[43m)\u001b[49m\u001b[38;5;241;43m.\u001b[39;49m\u001b[43mshow\u001b[49m\u001b[43m(\u001b[49m\u001b[38;5;241;43m*\u001b[39;49m\u001b[43margs\u001b[49m\u001b[43m,\u001b[49m\u001b[43m \u001b[49m\u001b[38;5;241;43m*\u001b[39;49m\u001b[38;5;241;43m*\u001b[39;49m\u001b[43mkwargs\u001b[49m\u001b[43m)\u001b[49m\n",
      "File \u001b[0;32m~/anaconda3/envs/DL-22/lib/python3.10/site-packages/matplotlib_inline/backend_inline.py:90\u001b[0m, in \u001b[0;36mshow\u001b[0;34m(close, block)\u001b[0m\n\u001b[1;32m     88\u001b[0m \u001b[38;5;28;01mtry\u001b[39;00m:\n\u001b[1;32m     89\u001b[0m     \u001b[38;5;28;01mfor\u001b[39;00m figure_manager \u001b[38;5;129;01min\u001b[39;00m Gcf\u001b[38;5;241m.\u001b[39mget_all_fig_managers():\n\u001b[0;32m---> 90\u001b[0m         \u001b[43mdisplay\u001b[49m\u001b[43m(\u001b[49m\n\u001b[1;32m     91\u001b[0m \u001b[43m            \u001b[49m\u001b[43mfigure_manager\u001b[49m\u001b[38;5;241;43m.\u001b[39;49m\u001b[43mcanvas\u001b[49m\u001b[38;5;241;43m.\u001b[39;49m\u001b[43mfigure\u001b[49m\u001b[43m,\u001b[49m\n\u001b[1;32m     92\u001b[0m \u001b[43m            \u001b[49m\u001b[43mmetadata\u001b[49m\u001b[38;5;241;43m=\u001b[39;49m\u001b[43m_fetch_figure_metadata\u001b[49m\u001b[43m(\u001b[49m\u001b[43mfigure_manager\u001b[49m\u001b[38;5;241;43m.\u001b[39;49m\u001b[43mcanvas\u001b[49m\u001b[38;5;241;43m.\u001b[39;49m\u001b[43mfigure\u001b[49m\u001b[43m)\u001b[49m\n\u001b[1;32m     93\u001b[0m \u001b[43m        \u001b[49m\u001b[43m)\u001b[49m\n\u001b[1;32m     94\u001b[0m \u001b[38;5;28;01mfinally\u001b[39;00m:\n\u001b[1;32m     95\u001b[0m     show\u001b[38;5;241m.\u001b[39m_to_draw \u001b[38;5;241m=\u001b[39m []\n",
      "File \u001b[0;32m~/anaconda3/envs/DL-22/lib/python3.10/site-packages/IPython/core/display_functions.py:298\u001b[0m, in \u001b[0;36mdisplay\u001b[0;34m(include, exclude, metadata, transient, display_id, raw, clear, *objs, **kwargs)\u001b[0m\n\u001b[1;32m    296\u001b[0m     publish_display_data(data\u001b[38;5;241m=\u001b[39mobj, metadata\u001b[38;5;241m=\u001b[39mmetadata, \u001b[38;5;241m*\u001b[39m\u001b[38;5;241m*\u001b[39mkwargs)\n\u001b[1;32m    297\u001b[0m \u001b[38;5;28;01melse\u001b[39;00m:\n\u001b[0;32m--> 298\u001b[0m     format_dict, md_dict \u001b[38;5;241m=\u001b[39m \u001b[38;5;28;43mformat\u001b[39;49m\u001b[43m(\u001b[49m\u001b[43mobj\u001b[49m\u001b[43m,\u001b[49m\u001b[43m \u001b[49m\u001b[43minclude\u001b[49m\u001b[38;5;241;43m=\u001b[39;49m\u001b[43minclude\u001b[49m\u001b[43m,\u001b[49m\u001b[43m \u001b[49m\u001b[43mexclude\u001b[49m\u001b[38;5;241;43m=\u001b[39;49m\u001b[43mexclude\u001b[49m\u001b[43m)\u001b[49m\n\u001b[1;32m    299\u001b[0m     \u001b[38;5;28;01mif\u001b[39;00m \u001b[38;5;129;01mnot\u001b[39;00m format_dict:\n\u001b[1;32m    300\u001b[0m         \u001b[38;5;66;03m# nothing to display (e.g. _ipython_display_ took over)\u001b[39;00m\n\u001b[1;32m    301\u001b[0m         \u001b[38;5;28;01mcontinue\u001b[39;00m\n",
      "File \u001b[0;32m~/anaconda3/envs/DL-22/lib/python3.10/site-packages/IPython/core/formatters.py:178\u001b[0m, in \u001b[0;36mDisplayFormatter.format\u001b[0;34m(self, obj, include, exclude)\u001b[0m\n\u001b[1;32m    176\u001b[0m md \u001b[38;5;241m=\u001b[39m \u001b[38;5;28;01mNone\u001b[39;00m\n\u001b[1;32m    177\u001b[0m \u001b[38;5;28;01mtry\u001b[39;00m:\n\u001b[0;32m--> 178\u001b[0m     data \u001b[38;5;241m=\u001b[39m \u001b[43mformatter\u001b[49m\u001b[43m(\u001b[49m\u001b[43mobj\u001b[49m\u001b[43m)\u001b[49m\n\u001b[1;32m    179\u001b[0m \u001b[38;5;28;01mexcept\u001b[39;00m:\n\u001b[1;32m    180\u001b[0m     \u001b[38;5;66;03m# FIXME: log the exception\u001b[39;00m\n\u001b[1;32m    181\u001b[0m     \u001b[38;5;28;01mraise\u001b[39;00m\n",
      "File \u001b[0;32m~/anaconda3/envs/DL-22/lib/python3.10/site-packages/decorator.py:232\u001b[0m, in \u001b[0;36mdecorate.<locals>.fun\u001b[0;34m(*args, **kw)\u001b[0m\n\u001b[1;32m    230\u001b[0m \u001b[38;5;28;01mif\u001b[39;00m \u001b[38;5;129;01mnot\u001b[39;00m kwsyntax:\n\u001b[1;32m    231\u001b[0m     args, kw \u001b[38;5;241m=\u001b[39m fix(args, kw, sig)\n\u001b[0;32m--> 232\u001b[0m \u001b[38;5;28;01mreturn\u001b[39;00m \u001b[43mcaller\u001b[49m\u001b[43m(\u001b[49m\u001b[43mfunc\u001b[49m\u001b[43m,\u001b[49m\u001b[43m \u001b[49m\u001b[38;5;241;43m*\u001b[39;49m\u001b[43m(\u001b[49m\u001b[43mextras\u001b[49m\u001b[43m \u001b[49m\u001b[38;5;241;43m+\u001b[39;49m\u001b[43m \u001b[49m\u001b[43margs\u001b[49m\u001b[43m)\u001b[49m\u001b[43m,\u001b[49m\u001b[43m \u001b[49m\u001b[38;5;241;43m*\u001b[39;49m\u001b[38;5;241;43m*\u001b[39;49m\u001b[43mkw\u001b[49m\u001b[43m)\u001b[49m\n",
      "File \u001b[0;32m~/anaconda3/envs/DL-22/lib/python3.10/site-packages/IPython/core/formatters.py:222\u001b[0m, in \u001b[0;36mcatch_format_error\u001b[0;34m(method, self, *args, **kwargs)\u001b[0m\n\u001b[1;32m    220\u001b[0m \u001b[38;5;124;03m\"\"\"show traceback on failed format call\"\"\"\u001b[39;00m\n\u001b[1;32m    221\u001b[0m \u001b[38;5;28;01mtry\u001b[39;00m:\n\u001b[0;32m--> 222\u001b[0m     r \u001b[38;5;241m=\u001b[39m \u001b[43mmethod\u001b[49m\u001b[43m(\u001b[49m\u001b[38;5;28;43mself\u001b[39;49m\u001b[43m,\u001b[49m\u001b[43m \u001b[49m\u001b[38;5;241;43m*\u001b[39;49m\u001b[43margs\u001b[49m\u001b[43m,\u001b[49m\u001b[43m \u001b[49m\u001b[38;5;241;43m*\u001b[39;49m\u001b[38;5;241;43m*\u001b[39;49m\u001b[43mkwargs\u001b[49m\u001b[43m)\u001b[49m\n\u001b[1;32m    223\u001b[0m \u001b[38;5;28;01mexcept\u001b[39;00m \u001b[38;5;167;01mNotImplementedError\u001b[39;00m:\n\u001b[1;32m    224\u001b[0m     \u001b[38;5;66;03m# don't warn on NotImplementedErrors\u001b[39;00m\n\u001b[1;32m    225\u001b[0m     \u001b[38;5;28;01mreturn\u001b[39;00m \u001b[38;5;28mself\u001b[39m\u001b[38;5;241m.\u001b[39m_check_return(\u001b[38;5;28;01mNone\u001b[39;00m, args[\u001b[38;5;241m0\u001b[39m])\n",
      "File \u001b[0;32m~/anaconda3/envs/DL-22/lib/python3.10/site-packages/IPython/core/formatters.py:339\u001b[0m, in \u001b[0;36mBaseFormatter.__call__\u001b[0;34m(self, obj)\u001b[0m\n\u001b[1;32m    337\u001b[0m     \u001b[38;5;28;01mpass\u001b[39;00m\n\u001b[1;32m    338\u001b[0m \u001b[38;5;28;01melse\u001b[39;00m:\n\u001b[0;32m--> 339\u001b[0m     \u001b[38;5;28;01mreturn\u001b[39;00m \u001b[43mprinter\u001b[49m\u001b[43m(\u001b[49m\u001b[43mobj\u001b[49m\u001b[43m)\u001b[49m\n\u001b[1;32m    340\u001b[0m \u001b[38;5;66;03m# Finally look for special method names\u001b[39;00m\n\u001b[1;32m    341\u001b[0m method \u001b[38;5;241m=\u001b[39m get_real_method(obj, \u001b[38;5;28mself\u001b[39m\u001b[38;5;241m.\u001b[39mprint_method)\n",
      "File \u001b[0;32m~/anaconda3/envs/DL-22/lib/python3.10/site-packages/IPython/core/pylabtools.py:151\u001b[0m, in \u001b[0;36mprint_figure\u001b[0;34m(fig, fmt, bbox_inches, base64, **kwargs)\u001b[0m\n\u001b[1;32m    148\u001b[0m     \u001b[38;5;28;01mfrom\u001b[39;00m \u001b[38;5;21;01mmatplotlib\u001b[39;00m\u001b[38;5;21;01m.\u001b[39;00m\u001b[38;5;21;01mbackend_bases\u001b[39;00m \u001b[38;5;28;01mimport\u001b[39;00m FigureCanvasBase\n\u001b[1;32m    149\u001b[0m     FigureCanvasBase(fig)\n\u001b[0;32m--> 151\u001b[0m \u001b[43mfig\u001b[49m\u001b[38;5;241;43m.\u001b[39;49m\u001b[43mcanvas\u001b[49m\u001b[38;5;241;43m.\u001b[39;49m\u001b[43mprint_figure\u001b[49m\u001b[43m(\u001b[49m\u001b[43mbytes_io\u001b[49m\u001b[43m,\u001b[49m\u001b[43m \u001b[49m\u001b[38;5;241;43m*\u001b[39;49m\u001b[38;5;241;43m*\u001b[39;49m\u001b[43mkw\u001b[49m\u001b[43m)\u001b[49m\n\u001b[1;32m    152\u001b[0m data \u001b[38;5;241m=\u001b[39m bytes_io\u001b[38;5;241m.\u001b[39mgetvalue()\n\u001b[1;32m    153\u001b[0m \u001b[38;5;28;01mif\u001b[39;00m fmt \u001b[38;5;241m==\u001b[39m \u001b[38;5;124m'\u001b[39m\u001b[38;5;124msvg\u001b[39m\u001b[38;5;124m'\u001b[39m:\n",
      "File \u001b[0;32m~/anaconda3/envs/DL-22/lib/python3.10/site-packages/matplotlib/backend_bases.py:2299\u001b[0m, in \u001b[0;36mFigureCanvasBase.print_figure\u001b[0;34m(self, filename, dpi, facecolor, edgecolor, orientation, format, bbox_inches, pad_inches, bbox_extra_artists, backend, **kwargs)\u001b[0m\n\u001b[1;32m   2297\u001b[0m \u001b[38;5;28;01mif\u001b[39;00m bbox_inches:\n\u001b[1;32m   2298\u001b[0m     \u001b[38;5;28;01mif\u001b[39;00m bbox_inches \u001b[38;5;241m==\u001b[39m \u001b[38;5;124m\"\u001b[39m\u001b[38;5;124mtight\u001b[39m\u001b[38;5;124m\"\u001b[39m:\n\u001b[0;32m-> 2299\u001b[0m         bbox_inches \u001b[38;5;241m=\u001b[39m \u001b[38;5;28;43mself\u001b[39;49m\u001b[38;5;241;43m.\u001b[39;49m\u001b[43mfigure\u001b[49m\u001b[38;5;241;43m.\u001b[39;49m\u001b[43mget_tightbbox\u001b[49m\u001b[43m(\u001b[49m\n\u001b[1;32m   2300\u001b[0m \u001b[43m            \u001b[49m\u001b[43mrenderer\u001b[49m\u001b[43m,\u001b[49m\u001b[43m \u001b[49m\u001b[43mbbox_extra_artists\u001b[49m\u001b[38;5;241;43m=\u001b[39;49m\u001b[43mbbox_extra_artists\u001b[49m\u001b[43m)\u001b[49m\n\u001b[1;32m   2301\u001b[0m         \u001b[38;5;28;01mif\u001b[39;00m pad_inches \u001b[38;5;129;01mis\u001b[39;00m \u001b[38;5;28;01mNone\u001b[39;00m:\n\u001b[1;32m   2302\u001b[0m             pad_inches \u001b[38;5;241m=\u001b[39m rcParams[\u001b[38;5;124m'\u001b[39m\u001b[38;5;124msavefig.pad_inches\u001b[39m\u001b[38;5;124m'\u001b[39m]\n",
      "File \u001b[0;32m~/anaconda3/envs/DL-22/lib/python3.10/site-packages/matplotlib/figure.py:1693\u001b[0m, in \u001b[0;36mFigureBase.get_tightbbox\u001b[0;34m(self, renderer, bbox_extra_artists)\u001b[0m\n\u001b[1;32m   1689\u001b[0m \u001b[38;5;28;01mif\u001b[39;00m ax\u001b[38;5;241m.\u001b[39mget_visible():\n\u001b[1;32m   1690\u001b[0m     \u001b[38;5;66;03m# some axes don't take the bbox_extra_artists kwarg so we\u001b[39;00m\n\u001b[1;32m   1691\u001b[0m     \u001b[38;5;66;03m# need this conditional....\u001b[39;00m\n\u001b[1;32m   1692\u001b[0m     \u001b[38;5;28;01mtry\u001b[39;00m:\n\u001b[0;32m-> 1693\u001b[0m         bbox \u001b[38;5;241m=\u001b[39m \u001b[43max\u001b[49m\u001b[38;5;241;43m.\u001b[39;49m\u001b[43mget_tightbbox\u001b[49m\u001b[43m(\u001b[49m\n\u001b[1;32m   1694\u001b[0m \u001b[43m            \u001b[49m\u001b[43mrenderer\u001b[49m\u001b[43m,\u001b[49m\u001b[43m \u001b[49m\u001b[43mbbox_extra_artists\u001b[49m\u001b[38;5;241;43m=\u001b[39;49m\u001b[43mbbox_extra_artists\u001b[49m\u001b[43m)\u001b[49m\n\u001b[1;32m   1695\u001b[0m     \u001b[38;5;28;01mexcept\u001b[39;00m \u001b[38;5;167;01mTypeError\u001b[39;00m:\n\u001b[1;32m   1696\u001b[0m         bbox \u001b[38;5;241m=\u001b[39m ax\u001b[38;5;241m.\u001b[39mget_tightbbox(renderer)\n",
      "File \u001b[0;32m~/anaconda3/envs/DL-22/lib/python3.10/site-packages/matplotlib/axes/_base.py:4671\u001b[0m, in \u001b[0;36m_AxesBase.get_tightbbox\u001b[0;34m(self, renderer, call_axes_locator, bbox_extra_artists, for_layout_only)\u001b[0m\n\u001b[1;32m   4668\u001b[0m \u001b[38;5;28;01mif\u001b[39;00m clip_extent \u001b[38;5;129;01mis\u001b[39;00m \u001b[38;5;129;01mnot\u001b[39;00m \u001b[38;5;28;01mNone\u001b[39;00m:\n\u001b[1;32m   4669\u001b[0m     clip_extent \u001b[38;5;241m=\u001b[39m mtransforms\u001b[38;5;241m.\u001b[39mBbox\u001b[38;5;241m.\u001b[39mintersection(\n\u001b[1;32m   4670\u001b[0m         clip_extent, axbbox)\n\u001b[0;32m-> 4671\u001b[0m     \u001b[38;5;28;01mif\u001b[39;00m np\u001b[38;5;241m.\u001b[39mall(\u001b[43mclip_extent\u001b[49m\u001b[38;5;241;43m.\u001b[39;49m\u001b[43mextents\u001b[49m \u001b[38;5;241m==\u001b[39m axbbox\u001b[38;5;241m.\u001b[39mextents):\n\u001b[1;32m   4672\u001b[0m         \u001b[38;5;66;03m# clip extent is inside the Axes bbox so don't check\u001b[39;00m\n\u001b[1;32m   4673\u001b[0m         \u001b[38;5;66;03m# this artist\u001b[39;00m\n\u001b[1;32m   4674\u001b[0m         \u001b[38;5;28;01mcontinue\u001b[39;00m\n\u001b[1;32m   4675\u001b[0m bbox \u001b[38;5;241m=\u001b[39m a\u001b[38;5;241m.\u001b[39mget_tightbbox(renderer)\n",
      "File \u001b[0;32m~/anaconda3/envs/DL-22/lib/python3.10/site-packages/matplotlib/transforms.py:401\u001b[0m, in \u001b[0;36mBboxBase.extents\u001b[0;34m(self)\u001b[0m\n\u001b[1;32m    398\u001b[0m \u001b[38;5;129m@property\u001b[39m\n\u001b[1;32m    399\u001b[0m \u001b[38;5;28;01mdef\u001b[39;00m \u001b[38;5;21mextents\u001b[39m(\u001b[38;5;28mself\u001b[39m):\n\u001b[1;32m    400\u001b[0m     \u001b[38;5;124;03m\"\"\"Return (:attr:`x0`, :attr:`y0`, :attr:`x1`, :attr:`y1`).\"\"\"\u001b[39;00m\n\u001b[0;32m--> 401\u001b[0m     \u001b[38;5;28;01mreturn\u001b[39;00m \u001b[38;5;28;43mself\u001b[39;49m\u001b[38;5;241;43m.\u001b[39;49m\u001b[43mget_points\u001b[49m\u001b[43m(\u001b[49m\u001b[43m)\u001b[49m\u001b[38;5;241;43m.\u001b[39;49m\u001b[43mflatten\u001b[49m\u001b[43m(\u001b[49m\u001b[43m)\u001b[49m\n",
      "\u001b[0;31mKeyboardInterrupt\u001b[0m: "
     ]
    }
   ],
   "source": [
    "plot_symbols(X_train, y_train, M, symbs)"
   ]
  },
  {
   "cell_type": "markdown",
   "id": "1f8f3529-0bd8-409f-83ff-26a04b5cc3ef",
   "metadata": {},
   "source": [
    "## Criação e treinamento da Rede Neural"
   ]
  },
  {
   "cell_type": "code",
   "execution_count": 30,
   "id": "9dffbbd5-11e5-467e-8880-cb74a5c82025",
   "metadata": {},
   "outputs": [
    {
     "name": "stderr",
     "output_type": "stream",
     "text": [
      "2023-03-07 17:22:35.549980: W tensorflow/stream_executor/platform/default/dso_loader.cc:64] Could not load dynamic library 'libcudart.so.11.0'; dlerror: libcudart.so.11.0: cannot open shared object file: No such file or directory\n",
      "2023-03-07 17:22:35.550237: W tensorflow/stream_executor/platform/default/dso_loader.cc:64] Could not load dynamic library 'libcublas.so.11'; dlerror: libcublas.so.11: cannot open shared object file: No such file or directory\n",
      "2023-03-07 17:22:35.550453: W tensorflow/stream_executor/platform/default/dso_loader.cc:64] Could not load dynamic library 'libcublasLt.so.11'; dlerror: libcublasLt.so.11: cannot open shared object file: No such file or directory\n",
      "2023-03-07 17:22:35.550533: W tensorflow/stream_executor/platform/default/dso_loader.cc:64] Could not load dynamic library 'libcufft.so.10'; dlerror: libcufft.so.10: cannot open shared object file: No such file or directory\n",
      "2023-03-07 17:22:35.550613: W tensorflow/stream_executor/platform/default/dso_loader.cc:64] Could not load dynamic library 'libcurand.so.10'; dlerror: libcurand.so.10: cannot open shared object file: No such file or directory\n",
      "2023-03-07 17:22:35.550691: W tensorflow/stream_executor/platform/default/dso_loader.cc:64] Could not load dynamic library 'libcusolver.so.11'; dlerror: libcusolver.so.11: cannot open shared object file: No such file or directory\n",
      "2023-03-07 17:22:35.550765: W tensorflow/stream_executor/platform/default/dso_loader.cc:64] Could not load dynamic library 'libcusparse.so.11'; dlerror: libcusparse.so.11: cannot open shared object file: No such file or directory\n",
      "2023-03-07 17:22:35.550840: W tensorflow/stream_executor/platform/default/dso_loader.cc:64] Could not load dynamic library 'libcudnn.so.8'; dlerror: libcudnn.so.8: cannot open shared object file: No such file or directory\n",
      "2023-03-07 17:22:35.550853: W tensorflow/core/common_runtime/gpu/gpu_device.cc:1934] Cannot dlopen some GPU libraries. Please make sure the missing libraries mentioned above are installed properly if you would like to use GPU. Follow the guide at https://www.tensorflow.org/install/gpu for how to download and setup the required libraries for your platform.\n",
      "Skipping registering GPU devices...\n"
     ]
    }
   ],
   "source": [
    "n_inputs = np.shape(X_train)[1]\n",
    "n_hidden1 = 150\n",
    "n_hidden2 = 80\n",
    "n_hidden3 = 50\n",
    "\n",
    "n_outputs = M\n",
    "learning_rate = 0.01\n",
    "n_epochs = 10\n",
    "batch_size = 800\n",
    "\n",
    "y_train = tf.reshape(tf.convert_to_tensor(y_train), [-1, 1])\n",
    "y_test = tf.reshape(tf.convert_to_tensor(y_test), [-1, 1])\n",
    "X_test = tf.convert_to_tensor(X_test)\n",
    "X_train = tf.convert_to_tensor(X_train)"
   ]
  },
  {
   "cell_type": "markdown",
   "id": "60d1922c-3a68-4302-b739-0600d937d38a",
   "metadata": {},
   "source": [
    "### Usando API Keras"
   ]
  },
  {
   "cell_type": "code",
   "execution_count": 31,
   "id": "41e802a8-800e-4d74-84fa-046b2914db78",
   "metadata": {},
   "outputs": [],
   "source": [
    "inputs = tf.keras.Input(shape=(3,))\n",
    "\n",
    "x = tf.keras.layers.Dense(n_hidden1, activation=\"elu\", kernel_initializer=\"glorot_normal\")(inputs)\n",
    "#x = tf.keras.layers.BatchNormalization(momentum=0.99)(x)\n",
    "#x = tf.keras.layers.Activation(\"elu\")(x)\n",
    "\n",
    "x = tf.keras.layers.Dense(n_hidden2, activation=\"elu\", kernel_initializer=\"glorot_normal\")(x)\n",
    "#x = tf.keras.layers.BatchNormalization(momentum=0.99)(x)\n",
    "#x = tf.keras.layers.Activation(\"elu\")(x)\n",
    "\n",
    "x = tf.keras.layers.Dense(n_hidden3, activation=\"elu\", kernel_initializer=\"glorot_normal\")(x)\n",
    "#x = tf.keras.layers.BatchNormalization(momentum=0.99)(x)\n",
    "#x = tf.keras.layers.Activation(\"elu\")(x)\n",
    "\n",
    "\n",
    "output = tf.keras.layers.Dense(n_outputs, kernel_initializer=\"glorot_normal\")(x)\n",
    "#output = tf.keras.layers.BatchNormalization(momentum=0.99)(output)"
   ]
  },
  {
   "cell_type": "code",
   "execution_count": 33,
   "id": "def1b5fc-08ef-4313-b4d8-284e23e908e8",
   "metadata": {
    "scrolled": true,
    "tags": []
   },
   "outputs": [
    {
     "name": "stdout",
     "output_type": "stream",
     "text": [
      "Epoch 1/10\n",
      "625/625 [==============================] - 3s 4ms/step - loss: 0.4993 - accuracy: 0.8703\n",
      "Epoch 2/10\n",
      "625/625 [==============================] - 2s 4ms/step - loss: 0.4157 - accuracy: 0.8840\n",
      "Epoch 3/10\n",
      "625/625 [==============================] - 2s 4ms/step - loss: 0.4102 - accuracy: 0.8837\n",
      "Epoch 4/10\n",
      "625/625 [==============================] - 2s 4ms/step - loss: 0.4062 - accuracy: 0.8841\n",
      "Epoch 5/10\n",
      "625/625 [==============================] - 2s 4ms/step - loss: 0.4034 - accuracy: 0.8841\n",
      "Epoch 6/10\n",
      "625/625 [==============================] - 2s 4ms/step - loss: 0.4012 - accuracy: 0.8840\n",
      "Epoch 7/10\n",
      "625/625 [==============================] - 2s 4ms/step - loss: 0.3993 - accuracy: 0.8842\n",
      "Epoch 8/10\n",
      "625/625 [==============================] - 2s 4ms/step - loss: 0.3971 - accuracy: 0.8842\n",
      "Epoch 9/10\n",
      "625/625 [==============================] - 2s 4ms/step - loss: 0.3948 - accuracy: 0.8841\n",
      "Epoch 10/10\n",
      "625/625 [==============================] - 2s 4ms/step - loss: 0.3927 - accuracy: 0.8842\n",
      "15625/15625 [==============================] - 16s 1ms/step - loss: 0.3904 - accuracy: 0.8844\n",
      "\n",
      "Test loss: 0.3904056251049042\n",
      "Test accuracy: 0.8843560218811035\n",
      "Taxa de erro simbólica de 11.56%\n",
      "\n"
     ]
    }
   ],
   "source": [
    "model_PSK = tf.keras.Model(inputs=inputs, outputs=output)\n",
    "\n",
    "model_PSK.compile(loss=tf.keras.losses.SparseCategoricalCrossentropy(from_logits=True),\n",
    "             optimizer=tf.keras.optimizers.experimental.SGD(learning_rate=learning_rate, momentum=0.9, nesterov=True),\n",
    "             metrics=[\"accuracy\"])\n",
    "\n",
    "history = model_PSK.fit(X_train, y_train, batch_size=batch_size, epochs=n_epochs, shuffle=True)\n",
    "\n",
    "tests_score = model_PSK.evaluate(X_test, y_test)\n",
    "print(\"\\nTest loss:\", tests_score[0])\n",
    "print(\"Test accuracy:\", tests_score[1])\n",
    "print(f\"Taxa de erro simbólica de {(1 - tests_score[1]):.2%}\\n\")"
   ]
  },
  {
   "cell_type": "code",
   "execution_count": 35,
   "id": "de663897-0659-49a2-af2d-963ce1fe1ed1",
   "metadata": {},
   "outputs": [
    {
     "data": {
      "image/png": "[encoded data removed]",
      "text/plain": [
       "<Figure size 1000x600 with 2 Axes>"
      ]
     },
     "metadata": {},
     "output_type": "display_data"
    }
   ],
   "source": [
    "plot_confusion_matrix(model_PSK, X_test, y_test, M, nn=True)\n",
    "#plot_decision_boundary(modelK, X_train, y_train, legend=True, nn=True)\n",
    "#plot_decision_boundary(modelK, X_train, y_train, legend=True, nn=True, plot_training=False)"
   ]
  },
  {
   "cell_type": "markdown",
   "id": "027a7647-fe9a-482e-953d-134bfdfbf498",
   "metadata": {},
   "source": [
    "## Avaliação do modelo em diferentes faixas de relação sinal/ruído"
   ]
  },
  {
   "cell_type": "markdown",
   "id": "919a89ec-c423-461d-acdd-382c4c09142c",
   "metadata": {},
   "source": [
    "### PSK | Rayleigh"
   ]
  },
  {
   "cell_type": "code",
   "execution_count": 36,
   "id": "960ad085-2e60-4488-85d6-b43719026f63",
   "metadata": {},
   "outputs": [],
   "source": [
    "Mod = \"PSK\"\n",
    "channel_type = \"rayleigh\"\n",
    "M = 8\n",
    "init_scale = 2\n",
    "interval = 50\n",
    "passo = 4"
   ]
  },
  {
   "cell_type": "code",
   "execution_count": 37,
   "id": "9010bf85-51f0-4e85-8078-aa8cdb546675",
   "metadata": {},
   "outputs": [],
   "source": [
    "Teo_SNRs = [theoretical_error(Mod, M, init_scale + i, channel_type) for i in range(0, interval, passo)]"
   ]
  },
  {
   "cell_type": "code",
   "execution_count": 40,
   "id": "5611eeaa-f773-488d-82a7-3234912b5379",
   "metadata": {},
   "outputs": [],
   "source": [
    "amostras = [conjunto(Mod, int(200 / (Teo_SNRs[int(i / passo)] * np.log2(M))), M, channel_type, Es, code_rate, [init_scale + i], False, scaler.transform) for i in range(0, interval, passo)]"
   ]
  },
  {
   "cell_type": "code",
   "execution_count": 41,
   "id": "8f4b5efa-051b-49fb-b8dd-cca5b9e7db41",
   "metadata": {},
   "outputs": [],
   "source": [
    "error_rate = ([ser(model_PSK, tf.reshape(tf.convert_to_tensor(amostras[i][0]), [-1, 3]),\n",
    "                              tf.reshape(tf.convert_to_tensor(amostras[i][1]), [-1, 1]), nn=True)\n",
    "              for i in range(len(amostras))]) / (tf.math.log(float(M))/tf.math.log(2.))"
   ]
  },
  {
   "cell_type": "code",
   "execution_count": 42,
   "id": "870b35d6-3cc0-432b-a8ae-7d608915eec5",
   "metadata": {},
   "outputs": [
    {
     "data": {
      "text/plain": [
       "<tf.Tensor: shape=(13,), dtype=float32, numpy=\n",
       "array([1.8035883e-01, 1.2467191e-01, 6.9189601e-02, 3.3050049e-02,\n",
       "       1.6528925e-02, 6.8524121e-03, 2.7519052e-03, 1.0247178e-03,\n",
       "       5.3580391e-04, 3.2080224e-04, 2.2217246e-04, 1.7836034e-04,\n",
       "       1.5812690e-04], dtype=float32)>"
      ]
     },
     "execution_count": 42,
     "metadata": {},
     "output_type": "execute_result"
    }
   ],
   "source": [
    "error_rate"
   ]
  },
  {
   "cell_type": "code",
   "execution_count": 43,
   "id": "52ed90e5-a4bf-4a4c-9e73-c3f2675aed7d",
   "metadata": {},
   "outputs": [
    {
     "data": {
      "text/plain": [
       "-0.0020266937"
      ]
     },
     "execution_count": 43,
     "metadata": {},
     "output_type": "execute_result"
    }
   ],
   "source": [
    "np.mean(error_rate - Teo_SNRs)"
   ]
  },
  {
   "cell_type": "code",
   "execution_count": 44,
   "id": "48373b34-5fdf-4d34-8718-dcf8a76f3341",
   "metadata": {},
   "outputs": [
    {
     "data": {
      "image/png": "[encoded data removed]",
      "text/plain": [
       "<Figure size 640x480 with 1 Axes>"
      ]
     },
     "metadata": {},
     "output_type": "display_data"
    }
   ],
   "source": [
    "import matplotlib.ticker as tick\n",
    "\n",
    "y1 = Teo_SNRs\n",
    "x = range(init_scale, init_scale + interval, passo)\n",
    "y2 = error_rate\n",
    "\n",
    "fig, ax = plt.subplots(1,1)\n",
    "\n",
    "ax.plot(x, y1, 'go-', label='Theoretical Curve', linewidth=2)\n",
    "ax.plot(x, y2, 'rs--', label='Empirical Curve')\n",
    "ax.set_title('8-PSK - Rayleigh')\n",
    "ax.set_xlabel('SNR_dB')\n",
    "ax.set_ylabel('Taxa de erro por bit')\n",
    "\n",
    "def y_fmt(x, y):\n",
    "    return '{:2.1e}'.format(x)\n",
    "\n",
    "ax.set_yscale(\"log\")\n",
    "ax.yaxis.set_major_formatter(tick.FuncFormatter(y_fmt))\n",
    "#plt.plot(x2, y2, 'rs--',  label='line 2')\n",
    "\n",
    "plt.legend()\n",
    "plt.show()"
   ]
  },
  {
   "cell_type": "markdown",
   "id": "c239eac7-8db3-4d3f-827e-beb9d0cd2c33",
   "metadata": {},
   "source": [
    "### PSK | AWGN"
   ]
  },
  {
   "cell_type": "code",
   "execution_count": 45,
   "id": "c11a1d7a-45df-4977-9328-b6dce0334cd3",
   "metadata": {},
   "outputs": [],
   "source": [
    "Mod = 'PSK'\n",
    "channel_type = 'awgn'\n",
    "interval = 17\n",
    "init_scale = 2\n",
    "passo = 2"
   ]
  },
  {
   "cell_type": "code",
   "execution_count": 46,
   "id": "88eacb0c-aaff-4370-aca6-fb84622a7003",
   "metadata": {},
   "outputs": [],
   "source": [
    "Teo_SNRs = [theoretical_error(Mod, M, init_scale + i, channel_type) for i in range(0, interval, passo)]"
   ]
  },
  {
   "cell_type": "code",
   "execution_count": 49,
   "id": "cf1ada92-9ed0-4adc-b718-3e0b832c886d",
   "metadata": {},
   "outputs": [],
   "source": [
    "amostras = [conjunto(Mod, int(100 / (Teo_SNRs[int(i / passo)] * np.log2(M))), M, channel_type, Es, code_rate, [init_scale + i], False, scaler.transform) for i in range(0, interval, passo)]"
   ]
  },
  {
   "cell_type": "code",
   "execution_count": 50,
   "id": "2e1ae7c2-2646-4e26-83ea-1ed31261c300",
   "metadata": {},
   "outputs": [],
   "source": [
    "error_rate = ([ser(model_PSK, tf.reshape(tf.convert_to_tensor(amostras[i][0]), [-1, 3]),\n",
    "                              tf.reshape(tf.convert_to_tensor(amostras[i][1]), [-1, 1]), nn=True)\n",
    "              for i in range(len(amostras))]) / (tf.math.log(float(M))/tf.math.log(2.))"
   ]
  },
  {
   "cell_type": "code",
   "execution_count": 51,
   "id": "309b58b1-ab35-465c-b0cd-cc2acb631fab",
   "metadata": {},
   "outputs": [
    {
     "data": {
      "text/plain": [
       "<tf.Tensor: shape=(9,), dtype=float32, numpy=\n",
       "array([1.52709350e-01, 1.22395836e-01, 8.49673226e-02, 6.50406480e-02,\n",
       "       2.98810545e-02, 9.36037395e-03, 2.11534183e-03, 2.27727403e-04,\n",
       "       8.29731016e-06], dtype=float32)>"
      ]
     },
     "execution_count": 51,
     "metadata": {},
     "output_type": "execute_result"
    }
   ],
   "source": [
    "error_rate"
   ]
  },
  {
   "cell_type": "code",
   "execution_count": 52,
   "id": "5cc5fbe6-a38b-4e14-afba-a868bca6dd99",
   "metadata": {},
   "outputs": [
    {
     "data": {
      "image/png": "[encoded data removed]",
      "text/plain": [
       "<Figure size 640x480 with 1 Axes>"
      ]
     },
     "metadata": {},
     "output_type": "display_data"
    }
   ],
   "source": [
    "import matplotlib.ticker as tick\n",
    "\n",
    "y1 = Teo_SNRs\n",
    "x = range(init_scale, init_scale + interval, passo)\n",
    "y2 = error_rate\n",
    "\n",
    "fig, ax = plt.subplots(1,1)\n",
    "\n",
    "ax.plot(x, y1, 'go-', label='Theoretical Curve', linewidth=2)\n",
    "ax.plot(x, y2, 'rs--', label='Empirical Curve')\n",
    "ax.set_title('8-PSK - AWGN')\n",
    "ax.set_xlabel('SNR_dB')\n",
    "ax.set_ylabel('Taxa de erro por bit')\n",
    "\n",
    "def y_fmt(x, y):\n",
    "    return '{:2.1e}'.format(x)\n",
    "\n",
    "ax.set_yscale(\"log\")\n",
    "ax.yaxis.set_major_formatter(tick.FuncFormatter(y_fmt))\n",
    "#plt.plot(x2, y2, 'rs--',  label='line 2')\n",
    "\n",
    "plt.legend()\n",
    "plt.show()"
   ]
  },
  {
   "cell_type": "markdown",
   "id": "fbff1dad-7b5b-4797-b849-015db2038480",
   "metadata": {},
   "source": [
    "## Modelo QAM"
   ]
  },
  {
   "cell_type": "code",
   "execution_count": 53,
   "id": "56e9e7a8-938f-4cfb-ab8f-d2a074995ff7",
   "metadata": {
    "tags": []
   },
   "outputs": [],
   "source": [
    "Mod = \"QAM\"\n",
    "channel_type = \"rayleigh\"\n",
    "M = 16"
   ]
  },
  {
   "cell_type": "code",
   "execution_count": 54,
   "id": "01549568-82aa-474d-a34e-b5a04276eaf3",
   "metadata": {},
   "outputs": [
    {
     "ename": "KeyboardInterrupt",
     "evalue": "",
     "output_type": "error",
     "traceback": [
      "\u001b[0;31m---------------------------------------------------------------------------\u001b[0m",
      "\u001b[0;31mKeyboardInterrupt\u001b[0m                         Traceback (most recent call last)",
      "Input \u001b[0;32mIn [54]\u001b[0m, in \u001b[0;36m<cell line: 1>\u001b[0;34m()\u001b[0m\n\u001b[0;32m----> 1\u001b[0m x_out, y_out, symbs \u001b[38;5;241m=\u001b[39m \u001b[43mTrain_Data\u001b[49m\u001b[43m(\u001b[49m\u001b[43mMod\u001b[49m\u001b[43m,\u001b[49m\u001b[43m \u001b[49m\u001b[43mtotal_num_symbols\u001b[49m\u001b[43m,\u001b[49m\u001b[43m \u001b[49m\u001b[43mM\u001b[49m\u001b[43m,\u001b[49m\u001b[43m \u001b[49m\u001b[43mchannel_type\u001b[49m\u001b[43m,\u001b[49m\u001b[43m \u001b[49m\u001b[43mEs\u001b[49m\u001b[43m,\u001b[49m\u001b[43m \u001b[49m\u001b[43mcode_rate\u001b[49m\u001b[43m,\u001b[49m\u001b[43m \u001b[49m\u001b[38;5;241;43m5\u001b[39;49m\u001b[43m,\u001b[49m\u001b[43m \u001b[49m\u001b[38;5;241;43m30\u001b[39;49m\u001b[43m)\u001b[49m\n",
      "Input \u001b[0;32mIn [4]\u001b[0m, in \u001b[0;36mTrain_Data\u001b[0;34m(Mod, total_num_symbols, M, channel_type, Es, code_rate, min, max)\u001b[0m\n\u001b[1;32m      1\u001b[0m \u001b[38;5;28;01mdef\u001b[39;00m \u001b[38;5;21mTrain_Data\u001b[39m(Mod, total_num_symbols, M, channel_type, Es, code_rate, \u001b[38;5;28mmin\u001b[39m, \u001b[38;5;28mmax\u001b[39m):\n\u001b[0;32m----> 3\u001b[0m     symbs, indices, channel_output \u001b[38;5;241m=\u001b[39m \u001b[43mModel\u001b[49m\u001b[43m(\u001b[49m\u001b[43mMod\u001b[49m\u001b[43m,\u001b[49m\u001b[43m \u001b[49m\u001b[43mtotal_num_symbols\u001b[49m\u001b[43m,\u001b[49m\u001b[43m \u001b[49m\u001b[43mM\u001b[49m\u001b[43m,\u001b[49m\u001b[43m \u001b[49m\u001b[43mchannel_type\u001b[49m\u001b[43m,\u001b[49m\u001b[43m \u001b[49m\u001b[43mEs\u001b[49m\u001b[43m,\u001b[49m\u001b[43m \u001b[49m\u001b[43mcode_rate\u001b[49m\u001b[43m,\u001b[49m\u001b[43m \u001b[49m\u001b[43m[\u001b[49m\u001b[38;5;28;43mmin\u001b[39;49m\u001b[43m,\u001b[49m\u001b[43m \u001b[49m\u001b[38;5;28;43mmax\u001b[39;49m\u001b[43m]\u001b[49m\u001b[43m)\u001b[49m\n\u001b[1;32m      4\u001b[0m     x \u001b[38;5;241m=\u001b[39m np\u001b[38;5;241m.\u001b[39mstack([np\u001b[38;5;241m.\u001b[39mreal(channel_output[\u001b[38;5;241m0\u001b[39m][:]),\n\u001b[1;32m      5\u001b[0m                     np\u001b[38;5;241m.\u001b[39mimag(channel_output[\u001b[38;5;241m0\u001b[39m][:])], axis\u001b[38;5;241m=\u001b[39m\u001b[38;5;241m1\u001b[39m)\n\u001b[1;32m      6\u001b[0m     x \u001b[38;5;241m=\u001b[39m np\u001b[38;5;241m.\u001b[39mconcatenate((x, np\u001b[38;5;241m.\u001b[39marray([np\u001b[38;5;241m.\u001b[39mreal(channel_output[\u001b[38;5;241m1\u001b[39m])])\u001b[38;5;241m.\u001b[39mT), axis\u001b[38;5;241m=\u001b[39m\u001b[38;5;241m1\u001b[39m)\n",
      "File \u001b[0;32m~/ML-DL/Communication/files_01_detection/const_mod.py:74\u001b[0m, in \u001b[0;36mModel\u001b[0;34m(Mod, num_symbols, M, type, Es, code_rate, SNR_dB)\u001b[0m\n\u001b[1;32m     72\u001b[0m \u001b[38;5;28;01melif\u001b[39;00m \u001b[38;5;28mtype\u001b[39m \u001b[38;5;241m==\u001b[39m \u001b[38;5;124m'\u001b[39m\u001b[38;5;124mrayleigh\u001b[39m\u001b[38;5;124m'\u001b[39m:\n\u001b[1;32m     73\u001b[0m     channel \u001b[38;5;241m=\u001b[39m SISOFlatChannel(\u001b[38;5;28;01mNone\u001b[39;00m, (\u001b[38;5;241m0\u001b[39mj, \u001b[38;5;241m1\u001b[39m \u001b[38;5;241m+\u001b[39m \u001b[38;5;241m0\u001b[39mj))\n\u001b[0;32m---> 74\u001b[0m     output \u001b[38;5;241m=\u001b[39m \u001b[43mPropagate\u001b[49m\u001b[43m(\u001b[49m\u001b[43mchannel\u001b[49m\u001b[43m,\u001b[49m\u001b[43m \u001b[49m\u001b[38;5;28;43mlen\u001b[39;49m\u001b[43m(\u001b[49m\u001b[43mSNR_dB\u001b[49m\u001b[43m)\u001b[49m\u001b[43m,\u001b[49m\u001b[43m \u001b[49m\u001b[43mSNR_dB\u001b[49m\u001b[43m,\u001b[49m\u001b[43m \u001b[49m\u001b[43mcode_rate\u001b[49m\u001b[43m,\u001b[49m\u001b[43m \u001b[49m\u001b[43mEs\u001b[49m\u001b[43m)\u001b[49m\n\u001b[1;32m     76\u001b[0m \u001b[38;5;28;01melif\u001b[39;00m \u001b[38;5;28mtype\u001b[39m \u001b[38;5;241m==\u001b[39m \u001b[38;5;124m'\u001b[39m\u001b[38;5;124mcrazy\u001b[39m\u001b[38;5;124m'\u001b[39m:\n\u001b[1;32m     77\u001b[0m     output \u001b[38;5;241m=\u001b[39m crazy_channel_propagate(symbs, SNR_dB)\n",
      "File \u001b[0;32m~/ML-DL/Communication/files_01_detection/const_mod.py:58\u001b[0m, in \u001b[0;36mModel.<locals>.Propagate\u001b[0;34m(channel, len_faixa, SNR_dB, code_rate, Es)\u001b[0m\n\u001b[1;32m     56\u001b[0m     \u001b[38;5;28;01mfor\u001b[39;00m i \u001b[38;5;129;01min\u001b[39;00m \u001b[38;5;28mrange\u001b[39m(num_symbols):                \n\u001b[1;32m     57\u001b[0m         channel\u001b[38;5;241m.\u001b[39mset_SNR_dB(snr_rand[i], \u001b[38;5;28mfloat\u001b[39m(code_rate), Es)\n\u001b[0;32m---> 58\u001b[0m         output \u001b[38;5;241m=\u001b[39m \u001b[43mnp\u001b[49m\u001b[38;5;241;43m.\u001b[39;49m\u001b[43mappend\u001b[49m\u001b[43m(\u001b[49m\u001b[43moutput\u001b[49m\u001b[43m,\u001b[49m\u001b[43m \u001b[49m\u001b[43mchannel\u001b[49m\u001b[38;5;241;43m.\u001b[39;49m\u001b[43mpropagate\u001b[49m\u001b[43m(\u001b[49m\u001b[43m[\u001b[49m\u001b[43msymbs\u001b[49m\u001b[43m[\u001b[49m\u001b[43mi\u001b[49m\u001b[43m]\u001b[49m\u001b[43m]\u001b[49m\u001b[43m)\u001b[49m\u001b[43m)\u001b[49m\n\u001b[1;32m     59\u001b[0m     output \u001b[38;5;241m=\u001b[39m np\u001b[38;5;241m.\u001b[39marray(output)\u001b[38;5;241m.\u001b[39mreshape((\u001b[38;5;241m-\u001b[39m\u001b[38;5;241m1\u001b[39m, \u001b[38;5;241m2\u001b[39m))\u001b[38;5;241m.\u001b[39mT\n\u001b[1;32m     60\u001b[0m \u001b[38;5;28;01melif\u001b[39;00m len_faixa \u001b[38;5;241m==\u001b[39m \u001b[38;5;241m1\u001b[39m:\n",
      "File \u001b[0;32m<__array_function__ internals>:5\u001b[0m, in \u001b[0;36mappend\u001b[0;34m(*args, **kwargs)\u001b[0m\n",
      "File \u001b[0;32m~/anaconda3/envs/DL-22/lib/python3.10/site-packages/numpy/lib/function_base.py:4817\u001b[0m, in \u001b[0;36mappend\u001b[0;34m(arr, values, axis)\u001b[0m\n\u001b[1;32m   4815\u001b[0m     values \u001b[38;5;241m=\u001b[39m ravel(values)\n\u001b[1;32m   4816\u001b[0m     axis \u001b[38;5;241m=\u001b[39m arr\u001b[38;5;241m.\u001b[39mndim\u001b[38;5;241m-\u001b[39m\u001b[38;5;241m1\u001b[39m\n\u001b[0;32m-> 4817\u001b[0m \u001b[38;5;28;01mreturn\u001b[39;00m \u001b[43mconcatenate\u001b[49m\u001b[43m(\u001b[49m\u001b[43m(\u001b[49m\u001b[43marr\u001b[49m\u001b[43m,\u001b[49m\u001b[43m \u001b[49m\u001b[43mvalues\u001b[49m\u001b[43m)\u001b[49m\u001b[43m,\u001b[49m\u001b[43m \u001b[49m\u001b[43maxis\u001b[49m\u001b[38;5;241;43m=\u001b[39;49m\u001b[43maxis\u001b[49m\u001b[43m)\u001b[49m\n",
      "File \u001b[0;32m<__array_function__ internals>:5\u001b[0m, in \u001b[0;36mconcatenate\u001b[0;34m(*args, **kwargs)\u001b[0m\n",
      "\u001b[0;31mKeyboardInterrupt\u001b[0m: "
     ]
    }
   ],
   "source": [
    "x_out, y_out, symbs = Train_Data(Mod, total_num_symbols, M, channel_type, Es, code_rate, 5, 30)"
   ]
  },
  {
   "cell_type": "code",
   "execution_count": null,
   "id": "6fcba47d-999e-48eb-a354-ed4cd878fbb2",
   "metadata": {},
   "outputs": [],
   "source": [
    "# Generate dataset\n",
    "# Train\n",
    "train_size = int(train_fraction*total_num_symbols) #data used for training\n",
    "y_train = y_out[:train_size]\n",
    "X_train = x_out[:train_size]\n",
    "\n",
    "# Test\n",
    "y_test = y_out[train_size:]\n",
    "X_test = x_out[train_size:]\n",
    "\n",
    "scaler = StandardScaler()\n",
    "scaler.fit(X_train)  # Don't cheat - fit only on training data\n",
    "X_train = scaler.transform(X_train)\n",
    "X_test = scaler.transform(X_test)"
   ]
  },
  {
   "cell_type": "markdown",
   "id": "2f761662-67cb-462c-87ae-8ad70e4598f5",
   "metadata": {},
   "source": [
    "## Criação e treinamento da Rede Neural"
   ]
  },
  {
   "cell_type": "code",
   "execution_count": null,
   "id": "efa156a7-8190-4be8-96ea-33165ff60c7d",
   "metadata": {},
   "outputs": [],
   "source": [
    "n_inputs = np.shape(X_train)[1]\n",
    "#n_hidden1 = 300\n",
    "n_hidden1 = 150\n",
    "n_hidden2 = 80\n",
    "n_hidden3 = 50\n",
    "\n",
    "n_outputs = M\n",
    "learning_rate = 0.001\n",
    "n_epochs = 10\n",
    "batch_size = 800\n",
    "\n",
    "y_train = tf.reshape(tf.convert_to_tensor(y_train), [-1, 1])\n",
    "y_test = tf.reshape(tf.convert_to_tensor(y_test), [-1, 1])\n",
    "X_test = tf.convert_to_tensor(X_test)\n",
    "X_train = tf.convert_to_tensor(X_train)"
   ]
  },
  {
   "cell_type": "markdown",
   "id": "7af33df7-c16f-4184-a487-a3b469d87778",
   "metadata": {},
   "source": [
    "### Usando API Keras"
   ]
  },
  {
   "cell_type": "code",
   "execution_count": null,
   "id": "3f4480f6-4c68-46a2-b080-147ec69673f4",
   "metadata": {},
   "outputs": [],
   "source": [
    "inputs = tf.keras.Input(shape=(3,))\n",
    "\n",
    "x = tf.keras.layers.Dense(n_hidden1, activation=\"elu\", kernel_initializer=\"glorot_normal\")(inputs)\n",
    "#x = tf.keras.layers.BatchNormalization(momentum=0.99)(x)\n",
    "#x = tf.keras.layers.Activation(\"elu\")(x)\n",
    "\n",
    "x = tf.keras.layers.Dense(n_hidden2, activation=\"elu\", kernel_initializer=\"glorot_normal\")(x)\n",
    "#x = tf.keras.layers.BatchNormalization(momentum=0.99)(x)\n",
    "#x = tf.keras.layers.Activation(\"elu\")(x)\n",
    "\n",
    "x = tf.keras.layers.Dense(n_hidden3, activation=\"elu\", kernel_initializer=\"glorot_normal\")(x)\n",
    "#x = tf.keras.layers.BatchNormalization(momentum=0.99)(x)\n",
    "#x = tf.keras.layers.Activation(\"elu\")(x)\n",
    "\n",
    "#x = tf.keras.layers.Dense(n_hidden4, activation=\"elu\", kernel_initializer=\"glorot_normal\")(x)\n",
    "#x = tf.keras.layers.BatchNormalization(momentum=0.99)(x)\n",
    "#x = tf.keras.layers.Activation(\"elu\")(x)\n",
    "\n",
    "output = tf.keras.layers.Dense(n_outputs, kernel_initializer=\"glorot_normal\")(x)\n",
    "#output = tf.keras.layers.BatchNormalization(momentum=0.99)(output)"
   ]
  },
  {
   "cell_type": "code",
   "execution_count": null,
   "id": "aa1c7e22-1b26-46fb-9e7a-eb0774376efc",
   "metadata": {
    "scrolled": true,
    "tags": []
   },
   "outputs": [],
   "source": [
    "model_QAM = tf.keras.Model(inputs=inputs, outputs=output)\n",
    "\n",
    "model_QAM.compile(loss=tf.keras.losses.SparseCategoricalCrossentropy(from_logits=True),\n",
    "             optimizer=tf.keras.optimizers.experimental.SGD(learning_rate=learning_rate, momentum=0.9, nesterov=True),\n",
    "             metrics=[\"accuracy\"])\n",
    "\n",
    "history = model_QAM.fit(X_train, y_train, batch_size=batch_size, epochs=n_epochs, shuffle=True)\n",
    "\n",
    "tests_score = model_QAM.evaluate(X_test, y_test)\n",
    "print(\"\\nTest loss:\", tests_score[0])\n",
    "print(\"Test accuracy:\", tests_score[1])\n",
    "print(f\"Taxa de erro simbólica de {(1 - tests_score[1]):.2%}\\n\")"
   ]
  },
  {
   "cell_type": "code",
   "execution_count": null,
   "id": "2f22953f-27eb-4150-bcc2-36ea56258e60",
   "metadata": {},
   "outputs": [],
   "source": [
    "plot_confusion_matrix(M, X_test, y_test, M, nn=True)\n",
    "#plot_decision_boundary(modelQ, X_train, y_train, legend=True, nn=True)\n",
    "#plot_decision_boundary(modelQ, X_train, y_train, legend=True, nn=True, plot_training=False)"
   ]
  },
  {
   "cell_type": "markdown",
   "id": "0f97cbd8-17d7-4670-b6f8-ece2c8a36004",
   "metadata": {},
   "source": [
    "## Avaliação do modelo em diferentes faixas de relação sinal/ruído"
   ]
  },
  {
   "cell_type": "markdown",
   "id": "2d7ada27-3b9e-462c-b9c3-7ddc77b1a479",
   "metadata": {},
   "source": [
    "### QAM | Rayleigh"
   ]
  },
  {
   "cell_type": "code",
   "execution_count": null,
   "id": "44146543-1b92-48db-923a-73ff1539d5ea",
   "metadata": {},
   "outputs": [],
   "source": [
    "Mod = 'QAM'\n",
    "channel_type = 'rayleigh'\n",
    "M = 16\n",
    "init_scale = 2\n",
    "interval = 48\n",
    "passo = 4"
   ]
  },
  {
   "cell_type": "code",
   "execution_count": null,
   "id": "1d226b67-12ad-4937-87a3-fa299afaa603",
   "metadata": {},
   "outputs": [],
   "source": [
    "Teo_SNRs = [theoretical_error(Mod, M, init_scale + i, channel_type) for i in range(0, interval, passo)]"
   ]
  },
  {
   "cell_type": "code",
   "execution_count": null,
   "id": "aadd5440-36e5-4e14-82ba-be1178876b21",
   "metadata": {},
   "outputs": [],
   "source": [
    "amostras = [conjunto(Mod, int(200 / (Teo_SNRs[int(i / passo)] * np.log2(M))), M, channel_type, Es, code_rate, init_scale + i, False, scaler.transform) for i in range(0, interval, passo)]"
   ]
  },
  {
   "cell_type": "code",
   "execution_count": null,
   "id": "df92b6ef-9b1f-4db1-b34d-f9d6409fbf99",
   "metadata": {},
   "outputs": [],
   "source": [
    "error_rate = ([ser(model_QAM, tf.reshape(tf.convert_to_tensor(amostras[i][0]), [-1, 3]),\n",
    "                              tf.reshape(tf.convert_to_tensor(amostras[i][1]), [-1, 1]), nn=True)\n",
    "              for i in range(len(amostras))]) / (tf.math.log(float(M))/tf.math.log(2.))"
   ]
  },
  {
   "cell_type": "code",
   "execution_count": null,
   "id": "bf0257d3-9c8b-458e-ac4e-f503d0f1f1cd",
   "metadata": {},
   "outputs": [],
   "source": [
    "error_rate"
   ]
  },
  {
   "cell_type": "code",
   "execution_count": null,
   "id": "7d1f74f2-aced-44f4-8eba-9489967882a4",
   "metadata": {},
   "outputs": [],
   "source": [
    "np.mean(error_rate - Teo_SNRs)"
   ]
  },
  {
   "cell_type": "code",
   "execution_count": null,
   "id": "0f198833-3936-4af8-a5a4-6fc496d46327",
   "metadata": {},
   "outputs": [],
   "source": [
    "import matplotlib.ticker as tick\n",
    "\n",
    "y1 = Teo_SNRs\n",
    "x = range(init_scale, init_scale + interval, passo)\n",
    "y2 = error_rate\n",
    "\n",
    "fig, ax = plt.subplots(1,1)\n",
    "\n",
    "ax.plot(x, y1, 'go-', label='Theoretical Curve', linewidth=2)\n",
    "ax.plot(x, y2, 'rs--', label='Empirical Curve')\n",
    "ax.set_title('16-QAM - Rayleigh')\n",
    "ax.set_xlabel('SNR_dB')\n",
    "ax.set_ylabel('Taxa de erro por bit')\n",
    "\n",
    "def y_fmt(x, y):\n",
    "    return '{:2.1e}'.format(x)\n",
    "\n",
    "ax.set_yscale(\"log\")\n",
    "ax.yaxis.set_major_formatter(tick.FuncFormatter(y_fmt))\n",
    "#plt.plot(x2, y2, 'rs--',  label='line 2')\n",
    "\n",
    "plt.legend()\n",
    "plt.show()"
   ]
  },
  {
   "cell_type": "markdown",
   "id": "65da82bb-a17d-4e48-907b-956dfe0f00d7",
   "metadata": {},
   "source": [
    "### QAM | AWGN"
   ]
  },
  {
   "cell_type": "code",
   "execution_count": null,
   "id": "3cdfd547-1599-49c9-94a0-95eeaaec1d87",
   "metadata": {},
   "outputs": [],
   "source": [
    "Mod = 'QAM'\n",
    "channel_type = 'awgn'\n",
    "init_scale = 2\n",
    "interval = 19\n",
    "passo = 2"
   ]
  },
  {
   "cell_type": "code",
   "execution_count": null,
   "id": "a5411b10-2e61-42ab-ae38-56fc6a688dd5",
   "metadata": {},
   "outputs": [],
   "source": [
    "Teo_SNRs = [theoretical_error(Mod, M, init_scale + i, channel_type) for i in range(0, interval, passo)]"
   ]
  },
  {
   "cell_type": "code",
   "execution_count": null,
   "id": "c3fb35f2-9452-4409-a7b4-2968a16f8318",
   "metadata": {},
   "outputs": [],
   "source": [
    "amostras = [conjunto(Mod, int(100 / (Teo_SNRs[int(i / passo)] * np.log2(M))), M, channel_type, Es, code_rate, init_scale + i, False, scaler.transform) for i in range(0, interval, passo)]"
   ]
  },
  {
   "cell_type": "code",
   "execution_count": null,
   "id": "dabd2673-736f-4cd9-b287-efe32d5fd055",
   "metadata": {},
   "outputs": [],
   "source": [
    "error_rate = ([ser(model_QAM, tf.reshape(tf.convert_to_tensor(amostras[i][0]), [-1, 3]),\n",
    "                              tf.reshape(tf.convert_to_tensor(amostras[i][1]), [-1, 1]), nn=True)\n",
    "              for i in range(len(amostras))]) / (tf.math.log(float(M))/tf.math.log(2.))"
   ]
  },
  {
   "cell_type": "code",
   "execution_count": null,
   "id": "35470696-fd39-4b69-bf36-fddf694b223a",
   "metadata": {},
   "outputs": [],
   "source": [
    "error_rate"
   ]
  },
  {
   "cell_type": "code",
   "execution_count": null,
   "id": "c63b50d9-afed-4a53-9acc-5c4c32660d0f",
   "metadata": {},
   "outputs": [],
   "source": [
    "import matplotlib.ticker as tick\n",
    "\n",
    "y1 = Teo_SNRs\n",
    "x = range(init_scale, init_scale + interval, passo)\n",
    "y2 = error_rate\n",
    "\n",
    "fig, ax = plt.subplots(1,1)\n",
    "\n",
    "ax.plot(x, y1, 'go-', label='Theoretical Curve', linewidth=2)\n",
    "ax.plot(x, y2, 'rs--', label='Empirical Curve')\n",
    "ax.set_title('16-QAM - AWGN')\n",
    "ax.set_xlabel('SNR_dB')\n",
    "ax.set_ylabel('Taxa de erro por bit')\n",
    "\n",
    "def y_fmt(x, y):\n",
    "    return '{:2.1e}'.format(x)\n",
    "\n",
    "ax.set_yscale(\"log\")\n",
    "ax.yaxis.set_major_formatter(tick.FuncFormatter(y_fmt))\n",
    "#plt.plot(x2, y2, 'rs--',  label='line 2')\n",
    "\n",
    "plt.legend()\n",
    "plt.show()"
   ]
  }
 ],
 "metadata": {
  "kernelspec": {
   "display_name": "Python 3 (ipykernel)",
   "language": "python",
   "name": "python3"
  },
  "language_info": {
   "codemirror_mode": {
    "name": "ipython",
    "version": 3
   },
   "file_extension": ".py",
   "mimetype": "text/x-python",
   "name": "python",
   "nbconvert_exporter": "python",
   "pygments_lexer": "ipython3",
   "version": "3.10.8"
  }
 },
 "nbformat": 4,
 "nbformat_minor": 5
}
