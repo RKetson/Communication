{
 "cells": [
  {
   "cell_type": "markdown",
   "id": "056b7760-0cf3-41a8-8f1e-2f9892653b5f",
   "metadata": {},
   "source": [
    "# Treinamento de Rede Neural com Tensorflow para análise do sinal"
   ]
  },
  {
   "cell_type": "code",
   "execution_count": 1,
   "id": "98422160-e949-40ef-96ce-8be84199af4f",
   "metadata": {},
   "outputs": [
    {
     "name": "stderr",
     "output_type": "stream",
     "text": [
      "2022-12-07 10:50:35.781996: W tensorflow/stream_executor/platform/default/dso_loader.cc:64] Could not load dynamic library 'libcudart.so.11.0'; dlerror: libcudart.so.11.0: cannot open shared object file: No such file or directory\n",
      "2022-12-07 10:50:35.782020: I tensorflow/stream_executor/cuda/cudart_stub.cc:29] Ignore above cudart dlerror if you do not have a GPU set up on your machine.\n",
      "2022-12-07 10:50:35.812053: E tensorflow/stream_executor/cuda/cuda_blas.cc:2981] Unable to register cuBLAS factory: Attempting to register factory for plugin cuBLAS when one has already been registered\n",
      "2022-12-07 10:50:36.517912: W tensorflow/stream_executor/platform/default/dso_loader.cc:64] Could not load dynamic library 'libnvinfer.so.7'; dlerror: libnvinfer.so.7: cannot open shared object file: No such file or directory\n",
      "2022-12-07 10:50:36.517991: W tensorflow/stream_executor/platform/default/dso_loader.cc:64] Could not load dynamic library 'libnvinfer_plugin.so.7'; dlerror: libnvinfer_plugin.so.7: cannot open shared object file: No such file or directory\n",
      "2022-12-07 10:50:36.518001: W tensorflow/compiler/tf2tensorrt/utils/py_utils.cc:38] TF-TRT Warning: Cannot dlopen some TensorRT libraries. If you would like to use Nvidia GPU with TensorRT, please make sure the missing libraries mentioned above are installed properly.\n"
     ]
    }
   ],
   "source": [
    "import matplotlib\n",
    "import matplotlib.pyplot as plt\n",
    "import matplotlib.cm as cm\n",
    "import seaborn as sns\n",
    "import numpy as np\n",
    "import tensorflow as tf\n",
    "\n",
    "from sklearn.preprocessing import StandardScaler\n",
    "from sklearn.pipeline import Pipeline\n",
    "\n",
    "from libs.commpy_mod import SISOFlatChannel\n",
    "\n",
    "from files_01_detection.const_mod import generate_symbols, Model\n",
    "from files_01_detection.const_analyzer import plot_decision_boundary, theoretical_ser, ser, plot_confusion_matrix, plot_symbols\n",
    " \n",
    "%matplotlib inline"
   ]
  },
  {
   "cell_type": "markdown",
   "id": "ca727e69-810e-4a7b-96ba-5d1f3b688cc8",
   "metadata": {},
   "source": [
    "## Definição e transmissão do sinal pelo canal"
   ]
  },
  {
   "cell_type": "code",
   "execution_count": 3,
   "id": "aaa78a52-727e-4ed0-8fe6-89233d91e307",
   "metadata": {},
   "outputs": [],
   "source": [
    "Mod = 'QAM'\n",
    "channel_type = 'rayleigh' # 'awgn' or 'crazy'\n",
    "M            = 16      # PSK modulation\n",
    "total_num_symbols  = 1000000    # Number of transmitted symbols to be used for training and test\n",
    "train_fraction = 0.5 # Fraction of whole data to be used for training (the remaining is for testing)\n",
    "SNR_dB       = 15      # Signal to noise ratio in dB     \n",
    "code_rate    = 1       # Rate of the used code\n",
    "Es           = 1       # Average symbol energy"
   ]
  },
  {
   "cell_type": "code",
   "execution_count": 4,
   "id": "75f0326f-e000-49df-a7fe-ac2eec58af7c",
   "metadata": {},
   "outputs": [
    {
     "ename": "NameError",
     "evalue": "name 'theoretical_ser' is not defined",
     "output_type": "error",
     "traceback": [
      "\u001b[0;31m---------------------------------------------------------------------------\u001b[0m",
      "\u001b[0;31mNameError\u001b[0m                                 Traceback (most recent call last)",
      "Input \u001b[0;32mIn [4]\u001b[0m, in \u001b[0;36m<cell line: 2>\u001b[0;34m()\u001b[0m\n\u001b[1;32m      1\u001b[0m \u001b[38;5;66;03m#plot theoretical symbol error probability (SER) for this SNR\u001b[39;00m\n\u001b[0;32m----> 2\u001b[0m Pe \u001b[38;5;241m=\u001b[39m \u001b[43mtheoretical_ser\u001b[49m(Mod, M, SNR_dB, channel_type, Es)\n\u001b[1;32m      3\u001b[0m \u001b[38;5;28mprint\u001b[39m(\u001b[38;5;124m\"\u001b[39m\u001b[38;5;124mTheoretical symbol error probability (SER) =\u001b[39m\u001b[38;5;124m\"\u001b[39m, Pe, \u001b[38;5;124m\"\u001b[39m\u001b[38;5;124m for SNR =\u001b[39m\u001b[38;5;124m\"\u001b[39m, SNR_dB,\u001b[38;5;124m\"\u001b[39m\u001b[38;5;124mdB\u001b[39m\u001b[38;5;124m\"\u001b[39m)\n",
      "\u001b[0;31mNameError\u001b[0m: name 'theoretical_ser' is not defined"
     ]
    }
   ],
   "source": [
    "#plot theoretical symbol error probability (SER) for this SNR\n",
    "Pe = theoretical_ser(Mod, M, SNR_dB, channel_type, Es)\n",
    "print(\"Theoretical symbol error probability (SER) =\", Pe, \" for SNR =\", SNR_dB,\"dB\")"
   ]
  },
  {
   "cell_type": "code",
   "execution_count": null,
   "id": "74ef8a7e-6d73-446a-936c-02dd692eedc5",
   "metadata": {},
   "outputs": [],
   "source": [
    "symbs, indices, channel_output = Model(Mod, total_num_symbols, M, channel_type, Es, code_rate, SNR_dB)"
   ]
  },
  {
   "cell_type": "code",
   "execution_count": 5,
   "id": "fd15caf6-7df8-41e5-8ec5-6fd4cc06fb58",
   "metadata": {},
   "outputs": [],
   "source": [
    "# Generate dataset\n",
    "# Train\n",
    "train_size = int(train_fraction*total_num_symbols) #data used for training\n",
    "y_train = np.append(np.array([[]]), indices[:train_size])\n",
    "X_train = np.stack([np.real(channel_output[:train_size]),\n",
    "                    np.imag(channel_output[:train_size])], axis=1)\n",
    "\n",
    "# Test\n",
    "y_test = np.append(np.array([[]]), indices[train_size:])\n",
    "X_test = np.stack([np.real(channel_output[train_size:]),\n",
    "                   np.imag(channel_output[train_size:])], axis=1)\n",
    "\n",
    "scaler = StandardScaler()\n",
    "scaler.fit(X_train)  # Don't cheat - fit only on training data\n",
    "X_train = scaler.transform(X_train)\n",
    "X_test = scaler.transform(X_test)"
   ]
  },
  {
   "cell_type": "code",
   "execution_count": 6,
   "id": "1586318c-e4a8-47a0-b11e-46fac0777c64",
   "metadata": {
    "tags": []
   },
   "outputs": [
    {
     "data": {
      "image/png": "[encoded data removed]",
      "text/plain": [
       "<Figure size 640x480 with 1 Axes>"
      ]
     },
     "metadata": {},
     "output_type": "display_data"
    }
   ],
   "source": [
    "plot_symbols(X_train, y_train, M, symbs)"
   ]
  },
  {
   "cell_type": "markdown",
   "id": "2b2c2744-0243-4fb7-8036-80539593fcad",
   "metadata": {},
   "source": [
    "## Criação e treinamento da Rede Neural"
   ]
  },
  {
   "cell_type": "code",
   "execution_count": 7,
   "id": "deb58434-e47c-4f04-96b3-67696b236c48",
   "metadata": {},
   "outputs": [
    {
     "name": "stderr",
     "output_type": "stream",
     "text": [
      "2022-12-07 10:02:09.251915: W tensorflow/stream_executor/platform/default/dso_loader.cc:64] Could not load dynamic library 'libcudart.so.11.0'; dlerror: libcudart.so.11.0: cannot open shared object file: No such file or directory\n",
      "2022-12-07 10:02:09.252015: W tensorflow/stream_executor/platform/default/dso_loader.cc:64] Could not load dynamic library 'libcublas.so.11'; dlerror: libcublas.so.11: cannot open shared object file: No such file or directory\n",
      "2022-12-07 10:02:09.252092: W tensorflow/stream_executor/platform/default/dso_loader.cc:64] Could not load dynamic library 'libcublasLt.so.11'; dlerror: libcublasLt.so.11: cannot open shared object file: No such file or directory\n",
      "2022-12-07 10:02:09.252165: W tensorflow/stream_executor/platform/default/dso_loader.cc:64] Could not load dynamic library 'libcufft.so.10'; dlerror: libcufft.so.10: cannot open shared object file: No such file or directory\n",
      "2022-12-07 10:02:09.252237: W tensorflow/stream_executor/platform/default/dso_loader.cc:64] Could not load dynamic library 'libcurand.so.10'; dlerror: libcurand.so.10: cannot open shared object file: No such file or directory\n",
      "2022-12-07 10:02:09.252310: W tensorflow/stream_executor/platform/default/dso_loader.cc:64] Could not load dynamic library 'libcusolver.so.11'; dlerror: libcusolver.so.11: cannot open shared object file: No such file or directory\n",
      "2022-12-07 10:02:09.252381: W tensorflow/stream_executor/platform/default/dso_loader.cc:64] Could not load dynamic library 'libcusparse.so.11'; dlerror: libcusparse.so.11: cannot open shared object file: No such file or directory\n",
      "2022-12-07 10:02:09.252452: W tensorflow/stream_executor/platform/default/dso_loader.cc:64] Could not load dynamic library 'libcudnn.so.8'; dlerror: libcudnn.so.8: cannot open shared object file: No such file or directory\n",
      "2022-12-07 10:02:09.252463: W tensorflow/core/common_runtime/gpu/gpu_device.cc:1934] Cannot dlopen some GPU libraries. Please make sure the missing libraries mentioned above are installed properly if you would like to use GPU. Follow the guide at https://www.tensorflow.org/install/gpu for how to download and setup the required libraries for your platform.\n",
      "Skipping registering GPU devices...\n"
     ]
    }
   ],
   "source": [
    "n_inputs = np.shape(X_train)[1]\n",
    "n_hidden1 = 20\n",
    "n_hidden2 = 10\n",
    "n_outputs = M\n",
    "learning_rate = 0.001\n",
    "n_epochs = 100\n",
    "batch_size = 5000\n",
    "\n",
    "y_train = tf.reshape(tf.convert_to_tensor(y_train), [-1, 1])\n",
    "y_test = tf.reshape(tf.convert_to_tensor(y_test), [-1, 1])\n",
    "X_test = tf.convert_to_tensor(X_test)\n",
    "X_train = tf.convert_to_tensor(X_train)"
   ]
  },
  {
   "cell_type": "markdown",
   "id": "e34138fb-0246-433f-ad3e-0637ebdb8eb5",
   "metadata": {},
   "source": [
    "### Usando API Keras"
   ]
  },
  {
   "cell_type": "code",
   "execution_count": 8,
   "id": "8615c883-116f-4af7-a4c7-ac3ec4a2bfae",
   "metadata": {},
   "outputs": [
    {
     "name": "stdout",
     "output_type": "stream",
     "text": [
      "Model: \"model\"\n",
      "_________________________________________________________________\n",
      " Layer (type)                Output Shape              Param #   \n",
      "=================================================================\n",
      " input_1 (InputLayer)        [(None, 2)]               0         \n",
      "                                                                 \n",
      " dense (Dense)               (None, 20)                60        \n",
      "                                                                 \n",
      " dense_1 (Dense)             (None, 10)                210       \n",
      "                                                                 \n",
      " dense_2 (Dense)             (None, 8)                 88        \n",
      "                                                                 \n",
      "=================================================================\n",
      "Total params: 358\n",
      "Trainable params: 358\n",
      "Non-trainable params: 0\n",
      "_________________________________________________________________\n"
     ]
    }
   ],
   "source": [
    "inputs = tf.keras.Input(shape=(2,))\n",
    "\n",
    "x = tf.keras.layers.Dense(n_hidden1, activation=\"relu\", kernel_initializer=\"glorot_normal\")(inputs)\n",
    "x = tf.keras.layers.Dense(n_hidden2, activation=\"relu\", kernel_initializer=\"glorot_normal\")(x)\n",
    "output = tf.keras.layers.Dense(n_outputs, kernel_initializer=\"glorot_normal\")(x)\n",
    "\n",
    "modelK = tf.keras.Model(inputs=inputs, outputs=output)\n",
    "\n",
    "modelK.summary()"
   ]
  },
  {
   "cell_type": "code",
   "execution_count": 9,
   "id": "495612db-c4e4-43af-9e71-71ca99c1a083",
   "metadata": {
    "scrolled": true,
    "tags": []
   },
   "outputs": [
    {
     "name": "stdout",
     "output_type": "stream",
     "text": [
      "Epoch 1/100\n",
      "100/100 [==============================] - 1s 3ms/step - loss: 2.0586 - accuracy: 0.1743\n",
      "Epoch 2/100\n",
      "100/100 [==============================] - 0s 3ms/step - loss: 2.0492 - accuracy: 0.2110\n",
      "Epoch 3/100\n",
      "100/100 [==============================] - 0s 3ms/step - loss: 2.0389 - accuracy: 0.2424\n",
      "Epoch 4/100\n",
      "100/100 [==============================] - 0s 3ms/step - loss: 2.0285 - accuracy: 0.2942\n",
      "Epoch 5/100\n",
      "100/100 [==============================] - 0s 3ms/step - loss: 2.0189 - accuracy: 0.3292\n",
      "Epoch 6/100\n",
      "100/100 [==============================] - 0s 3ms/step - loss: 2.0100 - accuracy: 0.3440\n",
      "Epoch 7/100\n",
      "100/100 [==============================] - 0s 3ms/step - loss: 2.0014 - accuracy: 0.3503\n",
      "Epoch 8/100\n",
      "100/100 [==============================] - 0s 3ms/step - loss: 1.9930 - accuracy: 0.3531\n",
      "Epoch 9/100\n",
      "100/100 [==============================] - 0s 3ms/step - loss: 1.9848 - accuracy: 0.3537\n",
      "Epoch 10/100\n",
      "100/100 [==============================] - 0s 3ms/step - loss: 1.9766 - accuracy: 0.3531\n",
      "Epoch 11/100\n",
      "100/100 [==============================] - 0s 3ms/step - loss: 1.9685 - accuracy: 0.3520\n",
      "Epoch 12/100\n",
      "100/100 [==============================] - 0s 3ms/step - loss: 1.9604 - accuracy: 0.3507\n",
      "Epoch 13/100\n",
      "100/100 [==============================] - 0s 3ms/step - loss: 1.9524 - accuracy: 0.3497\n",
      "Epoch 14/100\n",
      "100/100 [==============================] - 0s 3ms/step - loss: 1.9445 - accuracy: 0.3488\n",
      "Epoch 15/100\n",
      "100/100 [==============================] - 0s 3ms/step - loss: 1.9366 - accuracy: 0.3481\n",
      "Epoch 16/100\n",
      "100/100 [==============================] - 0s 3ms/step - loss: 1.9287 - accuracy: 0.3477\n",
      "Epoch 17/100\n",
      "100/100 [==============================] - 0s 3ms/step - loss: 1.9209 - accuracy: 0.3474\n",
      "Epoch 18/100\n",
      "100/100 [==============================] - 0s 3ms/step - loss: 1.9130 - accuracy: 0.3474\n",
      "Epoch 19/100\n",
      "100/100 [==============================] - 0s 3ms/step - loss: 1.9052 - accuracy: 0.3476\n",
      "Epoch 20/100\n",
      "100/100 [==============================] - 0s 3ms/step - loss: 1.8973 - accuracy: 0.3479\n",
      "Epoch 21/100\n",
      "100/100 [==============================] - 0s 3ms/step - loss: 1.8894 - accuracy: 0.3484\n",
      "Epoch 22/100\n",
      "100/100 [==============================] - 0s 3ms/step - loss: 1.8815 - accuracy: 0.3490\n",
      "Epoch 23/100\n",
      "100/100 [==============================] - 0s 3ms/step - loss: 1.8734 - accuracy: 0.3496\n",
      "Epoch 24/100\n",
      "100/100 [==============================] - 0s 3ms/step - loss: 1.8652 - accuracy: 0.3503\n",
      "Epoch 25/100\n",
      "100/100 [==============================] - 0s 3ms/step - loss: 1.8570 - accuracy: 0.3510\n",
      "Epoch 26/100\n",
      "100/100 [==============================] - 0s 3ms/step - loss: 1.8486 - accuracy: 0.3517\n",
      "Epoch 27/100\n",
      "100/100 [==============================] - 0s 3ms/step - loss: 1.8400 - accuracy: 0.3524\n",
      "Epoch 28/100\n",
      "100/100 [==============================] - 0s 3ms/step - loss: 1.8314 - accuracy: 0.3531\n",
      "Epoch 29/100\n",
      "100/100 [==============================] - 0s 3ms/step - loss: 1.8226 - accuracy: 0.3538\n",
      "Epoch 30/100\n",
      "100/100 [==============================] - 0s 3ms/step - loss: 1.8136 - accuracy: 0.3544\n",
      "Epoch 31/100\n",
      "100/100 [==============================] - 0s 3ms/step - loss: 1.8046 - accuracy: 0.3551\n",
      "Epoch 32/100\n",
      "100/100 [==============================] - 0s 3ms/step - loss: 1.7953 - accuracy: 0.3557\n",
      "Epoch 33/100\n",
      "100/100 [==============================] - 0s 3ms/step - loss: 1.7860 - accuracy: 0.3562\n",
      "Epoch 34/100\n",
      "100/100 [==============================] - 0s 3ms/step - loss: 1.7765 - accuracy: 0.3568\n",
      "Epoch 35/100\n",
      "100/100 [==============================] - 0s 3ms/step - loss: 1.7668 - accuracy: 0.3573\n",
      "Epoch 36/100\n",
      "100/100 [==============================] - 0s 3ms/step - loss: 1.7570 - accuracy: 0.3578\n",
      "Epoch 37/100\n",
      "100/100 [==============================] - 0s 3ms/step - loss: 1.7471 - accuracy: 0.3582\n",
      "Epoch 38/100\n",
      "100/100 [==============================] - 0s 3ms/step - loss: 1.7371 - accuracy: 0.3585\n",
      "Epoch 39/100\n",
      "100/100 [==============================] - 0s 3ms/step - loss: 1.7269 - accuracy: 0.3588\n",
      "Epoch 40/100\n",
      "100/100 [==============================] - 0s 3ms/step - loss: 1.7166 - accuracy: 0.3592\n",
      "Epoch 41/100\n",
      "100/100 [==============================] - 0s 3ms/step - loss: 1.7061 - accuracy: 0.3595\n",
      "Epoch 42/100\n",
      "100/100 [==============================] - 0s 3ms/step - loss: 1.6956 - accuracy: 0.3598\n",
      "Epoch 43/100\n",
      "100/100 [==============================] - 0s 3ms/step - loss: 1.6849 - accuracy: 0.3602\n",
      "Epoch 44/100\n",
      "100/100 [==============================] - 0s 3ms/step - loss: 1.6742 - accuracy: 0.3607\n",
      "Epoch 45/100\n",
      "100/100 [==============================] - 0s 3ms/step - loss: 1.6633 - accuracy: 0.3625\n",
      "Epoch 46/100\n",
      "100/100 [==============================] - 0s 3ms/step - loss: 1.6523 - accuracy: 0.3666\n",
      "Epoch 47/100\n",
      "100/100 [==============================] - 0s 3ms/step - loss: 1.6413 - accuracy: 0.3743\n",
      "Epoch 48/100\n",
      "100/100 [==============================] - 0s 3ms/step - loss: 1.6301 - accuracy: 0.3841\n",
      "Epoch 49/100\n",
      "100/100 [==============================] - 0s 3ms/step - loss: 1.6189 - accuracy: 0.3946\n",
      "Epoch 50/100\n",
      "100/100 [==============================] - 0s 3ms/step - loss: 1.6075 - accuracy: 0.4093\n",
      "Epoch 51/100\n",
      "100/100 [==============================] - 0s 3ms/step - loss: 1.5961 - accuracy: 0.4319\n",
      "Epoch 52/100\n",
      "100/100 [==============================] - 0s 3ms/step - loss: 1.5846 - accuracy: 0.4715\n",
      "Epoch 53/100\n",
      "100/100 [==============================] - 0s 3ms/step - loss: 1.5730 - accuracy: 0.5075\n",
      "Epoch 54/100\n",
      "100/100 [==============================] - 0s 3ms/step - loss: 1.5614 - accuracy: 0.5249\n",
      "Epoch 55/100\n",
      "100/100 [==============================] - 0s 3ms/step - loss: 1.5497 - accuracy: 0.5402\n",
      "Epoch 56/100\n",
      "100/100 [==============================] - 0s 3ms/step - loss: 1.5379 - accuracy: 0.5539\n",
      "Epoch 57/100\n",
      "100/100 [==============================] - 0s 3ms/step - loss: 1.5261 - accuracy: 0.5670\n",
      "Epoch 58/100\n",
      "100/100 [==============================] - 0s 3ms/step - loss: 1.5142 - accuracy: 0.5791\n",
      "Epoch 59/100\n",
      "100/100 [==============================] - 0s 3ms/step - loss: 1.5023 - accuracy: 0.5908\n",
      "Epoch 60/100\n",
      "100/100 [==============================] - 0s 3ms/step - loss: 1.4903 - accuracy: 0.6014\n",
      "Epoch 61/100\n",
      "100/100 [==============================] - 0s 3ms/step - loss: 1.4783 - accuracy: 0.6107\n",
      "Epoch 62/100\n",
      "100/100 [==============================] - 0s 3ms/step - loss: 1.4662 - accuracy: 0.6186\n",
      "Epoch 63/100\n",
      "100/100 [==============================] - 0s 3ms/step - loss: 1.4541 - accuracy: 0.6254\n",
      "Epoch 64/100\n",
      "100/100 [==============================] - 0s 3ms/step - loss: 1.4419 - accuracy: 0.6313\n",
      "Epoch 65/100\n",
      "100/100 [==============================] - 0s 3ms/step - loss: 1.4297 - accuracy: 0.6372\n",
      "Epoch 66/100\n",
      "100/100 [==============================] - 0s 3ms/step - loss: 1.4174 - accuracy: 0.6429\n",
      "Epoch 67/100\n",
      "100/100 [==============================] - 0s 3ms/step - loss: 1.4051 - accuracy: 0.6485\n",
      "Epoch 68/100\n",
      "100/100 [==============================] - 0s 3ms/step - loss: 1.3928 - accuracy: 0.6538\n",
      "Epoch 69/100\n",
      "100/100 [==============================] - 0s 3ms/step - loss: 1.3804 - accuracy: 0.6590\n",
      "Epoch 70/100\n",
      "100/100 [==============================] - 0s 3ms/step - loss: 1.3679 - accuracy: 0.6636\n",
      "Epoch 71/100\n",
      "100/100 [==============================] - 0s 3ms/step - loss: 1.3554 - accuracy: 0.6682\n",
      "Epoch 72/100\n",
      "100/100 [==============================] - 0s 3ms/step - loss: 1.3429 - accuracy: 0.6726\n",
      "Epoch 73/100\n",
      "100/100 [==============================] - 0s 3ms/step - loss: 1.3302 - accuracy: 0.6772\n",
      "Epoch 74/100\n",
      "100/100 [==============================] - 0s 3ms/step - loss: 1.3176 - accuracy: 0.6817\n",
      "Epoch 75/100\n",
      "100/100 [==============================] - 0s 3ms/step - loss: 1.3048 - accuracy: 0.6858\n",
      "Epoch 76/100\n",
      "100/100 [==============================] - 0s 3ms/step - loss: 1.2921 - accuracy: 0.6899\n",
      "Epoch 77/100\n",
      "100/100 [==============================] - 0s 3ms/step - loss: 1.2792 - accuracy: 0.6938\n",
      "Epoch 78/100\n",
      "100/100 [==============================] - 0s 3ms/step - loss: 1.2663 - accuracy: 0.6977\n",
      "Epoch 79/100\n",
      "100/100 [==============================] - 0s 3ms/step - loss: 1.2534 - accuracy: 0.7014\n",
      "Epoch 80/100\n",
      "100/100 [==============================] - 0s 3ms/step - loss: 1.2404 - accuracy: 0.7052\n",
      "Epoch 81/100\n",
      "100/100 [==============================] - 0s 3ms/step - loss: 1.2273 - accuracy: 0.7089\n",
      "Epoch 82/100\n",
      "100/100 [==============================] - 0s 3ms/step - loss: 1.2142 - accuracy: 0.7123\n",
      "Epoch 83/100\n",
      "100/100 [==============================] - 0s 3ms/step - loss: 1.2010 - accuracy: 0.7165\n",
      "Epoch 84/100\n",
      "100/100 [==============================] - 0s 3ms/step - loss: 1.1878 - accuracy: 0.7206\n",
      "Epoch 85/100\n",
      "100/100 [==============================] - 0s 3ms/step - loss: 1.1745 - accuracy: 0.7244\n",
      "Epoch 86/100\n",
      "100/100 [==============================] - 0s 3ms/step - loss: 1.1612 - accuracy: 0.7285\n",
      "Epoch 87/100\n",
      "100/100 [==============================] - 0s 3ms/step - loss: 1.1479 - accuracy: 0.7325\n",
      "Epoch 88/100\n",
      "100/100 [==============================] - 0s 3ms/step - loss: 1.1345 - accuracy: 0.7366\n",
      "Epoch 89/100\n",
      "100/100 [==============================] - 0s 3ms/step - loss: 1.1211 - accuracy: 0.7410\n",
      "Epoch 90/100\n",
      "100/100 [==============================] - 0s 3ms/step - loss: 1.1078 - accuracy: 0.7457\n",
      "Epoch 91/100\n",
      "100/100 [==============================] - 0s 3ms/step - loss: 1.0944 - accuracy: 0.7504\n",
      "Epoch 92/100\n",
      "100/100 [==============================] - 0s 3ms/step - loss: 1.0810 - accuracy: 0.7556\n",
      "Epoch 93/100\n",
      "100/100 [==============================] - 0s 3ms/step - loss: 1.0676 - accuracy: 0.7630\n",
      "Epoch 94/100\n",
      "100/100 [==============================] - 0s 3ms/step - loss: 1.0543 - accuracy: 0.7742\n",
      "Epoch 95/100\n",
      "100/100 [==============================] - 0s 3ms/step - loss: 1.0410 - accuracy: 0.7904\n",
      "Epoch 96/100\n",
      "100/100 [==============================] - 0s 3ms/step - loss: 1.0278 - accuracy: 0.8104\n",
      "Epoch 97/100\n",
      "100/100 [==============================] - 0s 3ms/step - loss: 1.0146 - accuracy: 0.8314\n",
      "Epoch 98/100\n",
      "100/100 [==============================] - 0s 3ms/step - loss: 1.0015 - accuracy: 0.8467\n",
      "Epoch 99/100\n",
      "100/100 [==============================] - 0s 3ms/step - loss: 0.9885 - accuracy: 0.8565\n",
      "Epoch 100/100\n",
      "100/100 [==============================] - 0s 3ms/step - loss: 0.9756 - accuracy: 0.8623\n",
      "15625/15625 [==============================] - 15s 921us/step - loss: 0.9680 - accuracy: 0.8660\n",
      "Test loss: 0.9679504632949829\n",
      "Test accuracy: 0.8660299777984619\n",
      "Taxa de erro simbólica de 13.40%\n"
     ]
    }
   ],
   "source": [
    "modelK.compile(loss=tf.keras.losses.SparseCategoricalCrossentropy(from_logits=True),\n",
    "             optimizer=tf.keras.optimizers.SGD(learning_rate=learning_rate),\n",
    "             metrics=[\"accuracy\"])\n",
    "\n",
    "history = modelK.fit(X_train, y_train, batch_size=batch_size, epochs=n_epochs, shuffle=True)\n",
    "\n",
    "tests_score = modelK.evaluate(X_test, y_test)\n",
    "print(\"Test loss:\", tests_score[0])\n",
    "print(\"Test accuracy:\", tests_score[1])\n",
    "print(f\"Taxa de erro simbólica de {(1 - tests_score[1]):.2%}\")"
   ]
  },
  {
   "cell_type": "markdown",
   "id": "3dca739f-9548-4985-ae87-950776fc4fd1",
   "metadata": {},
   "source": [
    "### Modelo de Rede Neural Criado"
   ]
  },
  {
   "cell_type": "code",
   "execution_count": 10,
   "id": "47a09078-9177-41a5-a718-3c098be5d5f9",
   "metadata": {},
   "outputs": [],
   "source": [
    "y_test = tf.cast(tf.reshape(y_test, -1),tf.int32)\n",
    "y_train = tf.cast(tf.reshape(y_train, -1),tf.int32)"
   ]
  },
  {
   "cell_type": "code",
   "execution_count": 11,
   "id": "b4929a87-b383-4576-8d0a-f3237d5b6a40",
   "metadata": {},
   "outputs": [],
   "source": [
    "class DenseLayer(tf.Module):\n",
    "    def __init__(self, n_neurons, name=None):\n",
    "        super().__init__(name=name)\n",
    "        self.n_neurons = n_neurons\n",
    "        self.is_built = False\n",
    "        \n",
    "    def __call__(self, X, activation=None, name=None):\n",
    "        if not self.is_built:\n",
    "            self.w = tf.Variable(tf.random.truncated_normal((X.shape[-1], self.n_neurons), stddev=(2 / tf.sqrt(tf.cast(self.n_neurons + X.shape[-1], tf.float32)))), name=str(name)+\"W\")\n",
    "            self.b = tf.Variable(tf.zeros([self.n_neurons]), dtype=tf.float32, name=str(name)+\"b\")\n",
    "            self.is_built = True\n",
    "            \n",
    "        Z = tf.matmul(X, self.w) + self.b\n",
    "        if activation is None:\n",
    "            return Z\n",
    "        else:\n",
    "            return activation(Z)"
   ]
  },
  {
   "cell_type": "code",
   "execution_count": 12,
   "id": "97502121-7f18-4bd5-9b72-d6c80ca1ad43",
   "metadata": {},
   "outputs": [],
   "source": [
    "class SequencialModel(tf.Module):\n",
    "    def __init__(self, n_hidden=None, name=None):\n",
    "        super().__init__(name=name)\n",
    "        \n",
    "        self.hidden1 = DenseLayer(n_hidden1)\n",
    "        self.hidden2 = DenseLayer(n_hidden2)\n",
    "        self.output = DenseLayer(n_outputs)\n",
    "    \n",
    "    def __call__(self, X):\n",
    "        x = self.hidden1(tf.cast(X, tf.float32), activation=tf.nn.relu, name=\"hidden1-\")\n",
    "        x = self.hidden2(x, activation=tf.nn.relu, name=\"hidden2-\")\n",
    "        \n",
    "        return self.output(x, name=\"output-\")"
   ]
  },
  {
   "cell_type": "code",
   "execution_count": 13,
   "id": "be91b39b-8709-4e13-9f7a-8fe3bf1dcdf3",
   "metadata": {},
   "outputs": [],
   "source": [
    "model = SequencialModel()"
   ]
  },
  {
   "cell_type": "code",
   "execution_count": 14,
   "id": "78c0e6d0-54dd-431d-b8af-49a189d08a63",
   "metadata": {},
   "outputs": [],
   "source": [
    "def loss(y, logits):\n",
    "    return tf.reduce_mean(tf.nn.sparse_softmax_cross_entropy_with_logits(labels=y, logits=logits))"
   ]
  },
  {
   "cell_type": "code",
   "execution_count": 15,
   "id": "8bc2516b-a77f-4608-80c5-0a9320bcb6a8",
   "metadata": {},
   "outputs": [],
   "source": [
    "def train(model, x, y, learning_rate):\n",
    "    with tf.GradientTape() as g:\n",
    "        current_loss = loss(y, tf.cast(model(x), tf.float32))\n",
    "        \n",
    "    dp = g.gradient(current_loss, model.trainable_variables)\n",
    "    \n",
    "    for i in range(len(model.trainable_variables)):\n",
    "        model.trainable_variables[i].assign_sub(learning_rate * dp[i])"
   ]
  },
  {
   "cell_type": "code",
   "execution_count": 16,
   "id": "e83dae12-4b65-48c4-9c74-2f2f705ee11b",
   "metadata": {},
   "outputs": [],
   "source": [
    "def minilote(model, x, y):\n",
    "    for _ in range(n_epochs):\n",
    "        for interation in range(x.shape[0] // batch_size):\n",
    "            X_batch, y_batch = x[interation*batch_size:(interation+1)*batch_size], y[interation*batch_size:(interation+1)*batch_size]\n",
    "            train(model, X_batch, y_batch, learning_rate)\n",
    "        print(f\"Época número {_}, precisão de {accuracy(model, x, y):.2%}\")"
   ]
  },
  {
   "cell_type": "code",
   "execution_count": 17,
   "id": "7ce2eaef-fe65-4ac4-9ada-ccfc1c7a8caf",
   "metadata": {},
   "outputs": [],
   "source": [
    "def accuracy(model, x, y):\n",
    "    correct = tf.nn.in_top_k(y, model(x), 1)\n",
    "    return tf.reduce_mean(tf.cast(correct, tf.float32))"
   ]
  },
  {
   "cell_type": "code",
   "execution_count": 18,
   "id": "654fc1d5-3473-4575-80be-92981559efe5",
   "metadata": {
    "scrolled": true,
    "tags": []
   },
   "outputs": [
    {
     "name": "stdout",
     "output_type": "stream",
     "text": [
      "Época número 0, precisão de 21.37%\n",
      "Época número 1, precisão de 23.50%\n",
      "Época número 2, precisão de 24.05%\n",
      "Época número 3, precisão de 25.24%\n",
      "Época número 4, precisão de 26.34%\n",
      "Época número 5, precisão de 27.72%\n",
      "Época número 6, precisão de 29.57%\n",
      "Época número 7, precisão de 31.02%\n",
      "Época número 8, precisão de 31.49%\n",
      "Época número 9, precisão de 32.03%\n",
      "Época número 10, precisão de 32.63%\n",
      "Época número 11, precisão de 33.29%\n",
      "Época número 12, precisão de 33.96%\n",
      "Época número 13, precisão de 34.60%\n",
      "Época número 14, precisão de 35.28%\n",
      "Época número 15, precisão de 35.93%\n",
      "Época número 16, precisão de 36.53%\n",
      "Época número 17, precisão de 37.07%\n",
      "Época número 18, precisão de 37.54%\n",
      "Época número 19, precisão de 38.05%\n",
      "Época número 20, precisão de 38.66%\n",
      "Época número 21, precisão de 39.33%\n",
      "Época número 22, precisão de 40.02%\n",
      "Época número 23, precisão de 40.82%\n",
      "Época número 24, precisão de 41.80%\n",
      "Época número 25, precisão de 43.03%\n",
      "Época número 26, precisão de 44.40%\n",
      "Época número 27, precisão de 45.73%\n",
      "Época número 28, precisão de 46.98%\n",
      "Época número 29, precisão de 48.12%\n",
      "Época número 30, precisão de 49.30%\n",
      "Época número 31, precisão de 50.40%\n",
      "Época número 32, precisão de 51.20%\n",
      "Época número 33, precisão de 51.74%\n",
      "Época número 34, precisão de 52.25%\n",
      "Época número 35, precisão de 52.78%\n",
      "Época número 36, precisão de 53.35%\n",
      "Época número 37, precisão de 53.98%\n",
      "Época número 38, precisão de 54.64%\n",
      "Época número 39, precisão de 55.25%\n",
      "Época número 40, precisão de 55.82%\n",
      "Época número 41, precisão de 56.33%\n",
      "Época número 42, precisão de 56.77%\n",
      "Época número 43, precisão de 57.16%\n",
      "Época número 44, precisão de 57.49%\n",
      "Época número 45, precisão de 57.81%\n",
      "Época número 46, precisão de 58.13%\n",
      "Época número 47, precisão de 58.41%\n",
      "Época número 48, precisão de 58.93%\n",
      "Época número 49, precisão de 59.50%\n",
      "Época número 50, precisão de 60.12%\n",
      "Época número 51, precisão de 60.74%\n",
      "Época número 52, precisão de 61.38%\n",
      "Época número 53, precisão de 62.10%\n",
      "Época número 54, precisão de 62.84%\n",
      "Época número 55, precisão de 63.69%\n",
      "Época número 56, precisão de 64.60%\n",
      "Época número 57, precisão de 65.56%\n",
      "Época número 58, precisão de 66.60%\n",
      "Época número 59, precisão de 68.21%\n",
      "Época número 60, precisão de 69.82%\n",
      "Época número 61, precisão de 71.38%\n",
      "Época número 62, precisão de 72.90%\n",
      "Época número 63, precisão de 74.34%\n",
      "Época número 64, precisão de 75.74%\n",
      "Época número 65, precisão de 77.10%\n",
      "Época número 66, precisão de 78.41%\n",
      "Época número 67, precisão de 79.62%\n",
      "Época número 68, precisão de 80.73%\n",
      "Época número 69, precisão de 81.73%\n",
      "Época número 70, precisão de 82.65%\n",
      "Época número 71, precisão de 83.50%\n",
      "Época número 72, precisão de 84.25%\n",
      "Época número 73, precisão de 84.95%\n",
      "Época número 74, precisão de 85.56%\n",
      "Época número 75, precisão de 86.09%\n",
      "Época número 76, precisão de 86.57%\n",
      "Época número 77, precisão de 86.97%\n",
      "Época número 78, precisão de 87.32%\n",
      "Época número 79, precisão de 87.61%\n",
      "Época número 80, precisão de 87.87%\n",
      "Época número 81, precisão de 88.12%\n",
      "Época número 82, precisão de 88.31%\n",
      "Época número 83, precisão de 88.49%\n",
      "Época número 84, precisão de 88.64%\n",
      "Época número 85, precisão de 88.77%\n",
      "Época número 86, precisão de 88.89%\n",
      "Época número 87, precisão de 89.00%\n",
      "Época número 88, precisão de 89.10%\n",
      "Época número 89, precisão de 89.18%\n",
      "Época número 90, precisão de 89.26%\n",
      "Época número 91, precisão de 89.35%\n",
      "Época número 92, precisão de 89.43%\n",
      "Época número 93, precisão de 89.49%\n",
      "Época número 94, precisão de 89.55%\n",
      "Época número 95, precisão de 89.61%\n",
      "Época número 96, precisão de 89.65%\n",
      "Época número 97, precisão de 89.70%\n",
      "Época número 98, precisão de 89.74%\n",
      "Época número 99, precisão de 89.78%\n"
     ]
    }
   ],
   "source": [
    "minilote(model, X_train, y_train)"
   ]
  },
  {
   "cell_type": "code",
   "execution_count": 19,
   "id": "88e37a15-6d90-44fb-9c99-2d91bc0559c4",
   "metadata": {},
   "outputs": [
    {
     "name": "stdout",
     "output_type": "stream",
     "text": [
      "Taxa de erro simbólica de 10.13%\n"
     ]
    }
   ],
   "source": [
    "print(f\"Taxa de erro simbólica de {(1 - accuracy(model, X_test, y_test)):.2%}\")"
   ]
  },
  {
   "cell_type": "markdown",
   "id": "0fdaf953-79e4-448e-bce8-5b0ba34ffeec",
   "metadata": {},
   "source": [
    "### Rede Neural com uso de Placeholders"
   ]
  },
  {
   "cell_type": "code",
   "execution_count": 20,
   "id": "0a980872-5875-4693-8772-bec207efc1f4",
   "metadata": {},
   "outputs": [],
   "source": [
    "import tensorflow.compat.v1 as tf"
   ]
  },
  {
   "cell_type": "code",
   "execution_count": 21,
   "id": "02c4e16c-2ec8-4c22-89a7-df0e68a9dc70",
   "metadata": {},
   "outputs": [],
   "source": [
    "tf.compat.v1.disable_eager_execution()\n",
    "\n",
    "X = tf.placeholder(tf.float32, shape=(None, n_inputs), name=\"X\")\n",
    "y = tf.placeholder(tf.int64, shape=(None), name=\"y\")"
   ]
  },
  {
   "cell_type": "code",
   "execution_count": 22,
   "id": "bd00a9e6-94ae-4c9d-8db1-341e9d15a284",
   "metadata": {},
   "outputs": [],
   "source": [
    "#Função para a criação das camadas ocultas\n",
    "def neuron_layer(X, n_neurons, name, activation=None):\n",
    "    with tf.name_scope(name):\n",
    "        n_inputs = int(X.get_shape()[1])\n",
    "        stddev = 2 / np.sqrt(n_inputs + n_neurons)\n",
    "        init = tf.truncated_normal((n_inputs, n_neurons), stddev=stddev)\n",
    "        \n",
    "        W = tf.Variable(init, name=\"kernel\")\n",
    "        b = tf.Variable(tf.zeros([n_neurons]), name=\"bias\")\n",
    "        Z = tf.matmul(X, W) + b\n",
    "        \n",
    "        if activation is not None:\n",
    "            return activation(Z)\n",
    "        else:\n",
    "            tf.print(Z)\n",
    "            return Z"
   ]
  },
  {
   "cell_type": "code",
   "execution_count": 23,
   "id": "edac2c09-86d4-4bba-8267-42532b51eb83",
   "metadata": {},
   "outputs": [],
   "source": [
    "with tf.name_scope(\"dnn\"):\n",
    "    hidden1 = neuron_layer(X, n_hidden1, \"hidden1\", activation=tf.nn.relu)\n",
    "    hidden2 = neuron_layer(hidden1, n_hidden2, \"hidden2\", activation=tf.nn.relu)\n",
    "    logits = neuron_layer(hidden2, n_outputs, \"outputs\")"
   ]
  },
  {
   "cell_type": "code",
   "execution_count": 24,
   "id": "f6886f8c-9954-49da-8adc-d8bcd7d95aae",
   "metadata": {},
   "outputs": [],
   "source": [
    "with tf.name_scope(\"loss\"):\n",
    "    xentropy = tf.nn.sparse_softmax_cross_entropy_with_logits(labels=y, logits=logits)\n",
    "    loss = tf.reduce_mean(xentropy, name=\"loss\")"
   ]
  },
  {
   "cell_type": "code",
   "execution_count": 25,
   "id": "ff079b09-7ba0-4861-b47a-ead20a1c8e63",
   "metadata": {},
   "outputs": [],
   "source": [
    "with tf.name_scope(\"train\"):\n",
    "    optimizer = tf.train.GradientDescentOptimizer(learning_rate)\n",
    "    training_op = optimizer.minimize(loss)"
   ]
  },
  {
   "cell_type": "code",
   "execution_count": 26,
   "id": "9b3e32e0-2365-4555-ae24-e06bc926f9ad",
   "metadata": {},
   "outputs": [],
   "source": [
    "with tf.name_scope(\"eval\"):\n",
    "    correct = tf.nn.in_top_k(logits, y, 1)\n",
    "    accuracy = tf.reduce_mean(tf.cast(correct, tf.float32))"
   ]
  },
  {
   "cell_type": "code",
   "execution_count": 28,
   "id": "275932af-7892-4a45-838a-0977772f73ef",
   "metadata": {
    "scrolled": true,
    "tags": []
   },
   "outputs": [
    {
     "name": "stderr",
     "output_type": "stream",
     "text": [
      "2022-12-07 10:04:44.697815: I tensorflow/compiler/mlir/mlir_graph_optimization_pass.cc:354] MLIR V1 optimization pass is not enabled\n"
     ]
    },
    {
     "name": "stdout",
     "output_type": "stream",
     "text": [
      "0 Train accuracy: 0.1664 Val accuracy: 0.160506\n",
      "1 Train accuracy: 0.179 Val accuracy: 0.172908\n",
      "2 Train accuracy: 0.2506 Val accuracy: 0.248746\n",
      "3 Train accuracy: 0.2526 Val accuracy: 0.251024\n",
      "4 Train accuracy: 0.2596 Val accuracy: 0.256622\n",
      "5 Train accuracy: 0.2708 Val accuracy: 0.269442\n",
      "6 Train accuracy: 0.2918 Val accuracy: 0.29134\n",
      "7 Train accuracy: 0.321 Val accuracy: 0.321796\n",
      "8 Train accuracy: 0.357 Val accuracy: 0.35311\n",
      "9 Train accuracy: 0.3668 Val accuracy: 0.365086\n",
      "10 Train accuracy: 0.3698 Val accuracy: 0.367576\n",
      "11 Train accuracy: 0.3748 Val accuracy: 0.370694\n",
      "12 Train accuracy: 0.3796 Val accuracy: 0.375034\n",
      "13 Train accuracy: 0.3864 Val accuracy: 0.380402\n",
      "14 Train accuracy: 0.3928 Val accuracy: 0.38671\n",
      "15 Train accuracy: 0.4044 Val accuracy: 0.394814\n",
      "16 Train accuracy: 0.4148 Val accuracy: 0.4056\n",
      "17 Train accuracy: 0.4276 Val accuracy: 0.4182\n",
      "18 Train accuracy: 0.4412 Val accuracy: 0.431912\n",
      "19 Train accuracy: 0.4566 Val accuracy: 0.445692\n",
      "20 Train accuracy: 0.4712 Val accuracy: 0.458134\n",
      "21 Train accuracy: 0.4814 Val accuracy: 0.470942\n",
      "22 Train accuracy: 0.4954 Val accuracy: 0.486658\n",
      "23 Train accuracy: 0.512 Val accuracy: 0.50534\n",
      "24 Train accuracy: 0.534 Val accuracy: 0.526054\n",
      "25 Train accuracy: 0.555 Val accuracy: 0.547206\n",
      "26 Train accuracy: 0.5712 Val accuracy: 0.566128\n",
      "27 Train accuracy: 0.5858 Val accuracy: 0.58184\n",
      "28 Train accuracy: 0.6008 Val accuracy: 0.595156\n",
      "29 Train accuracy: 0.6162 Val accuracy: 0.607498\n",
      "30 Train accuracy: 0.626 Val accuracy: 0.618938\n",
      "31 Train accuracy: 0.6352 Val accuracy: 0.629248\n",
      "32 Train accuracy: 0.643 Val accuracy: 0.638408\n",
      "33 Train accuracy: 0.6506 Val accuracy: 0.647076\n",
      "34 Train accuracy: 0.6586 Val accuracy: 0.654876\n",
      "35 Train accuracy: 0.6672 Val accuracy: 0.661436\n",
      "36 Train accuracy: 0.6726 Val accuracy: 0.666902\n",
      "37 Train accuracy: 0.678 Val accuracy: 0.671832\n",
      "38 Train accuracy: 0.6812 Val accuracy: 0.676132\n",
      "39 Train accuracy: 0.6852 Val accuracy: 0.679792\n",
      "40 Train accuracy: 0.687 Val accuracy: 0.683186\n",
      "41 Train accuracy: 0.6912 Val accuracy: 0.68659\n",
      "42 Train accuracy: 0.6938 Val accuracy: 0.690328\n",
      "43 Train accuracy: 0.6986 Val accuracy: 0.69452\n",
      "44 Train accuracy: 0.7034 Val accuracy: 0.70047\n",
      "45 Train accuracy: 0.7176 Val accuracy: 0.713916\n",
      "46 Train accuracy: 0.7426 Val accuracy: 0.740412\n",
      "47 Train accuracy: 0.77 Val accuracy: 0.769504\n",
      "48 Train accuracy: 0.8002 Val accuracy: 0.795772\n",
      "49 Train accuracy: 0.8208 Val accuracy: 0.817338\n",
      "50 Train accuracy: 0.8362 Val accuracy: 0.834408\n",
      "51 Train accuracy: 0.8512 Val accuracy: 0.848822\n",
      "52 Train accuracy: 0.8608 Val accuracy: 0.860908\n",
      "53 Train accuracy: 0.8712 Val accuracy: 0.87064\n",
      "54 Train accuracy: 0.8816 Val accuracy: 0.878442\n",
      "55 Train accuracy: 0.8856 Val accuracy: 0.88471\n",
      "56 Train accuracy: 0.8892 Val accuracy: 0.889404\n",
      "57 Train accuracy: 0.8914 Val accuracy: 0.893208\n",
      "58 Train accuracy: 0.8958 Val accuracy: 0.896046\n",
      "59 Train accuracy: 0.8972 Val accuracy: 0.898226\n",
      "60 Train accuracy: 0.8998 Val accuracy: 0.899946\n",
      "61 Train accuracy: 0.9014 Val accuracy: 0.901348\n",
      "62 Train accuracy: 0.9032 Val accuracy: 0.90236\n",
      "63 Train accuracy: 0.9028 Val accuracy: 0.903066\n",
      "64 Train accuracy: 0.9036 Val accuracy: 0.903524\n",
      "65 Train accuracy: 0.9046 Val accuracy: 0.90394\n",
      "66 Train accuracy: 0.9044 Val accuracy: 0.904262\n",
      "67 Train accuracy: 0.904 Val accuracy: 0.904444\n",
      "68 Train accuracy: 0.9038 Val accuracy: 0.904616\n",
      "69 Train accuracy: 0.9042 Val accuracy: 0.90475\n",
      "70 Train accuracy: 0.9044 Val accuracy: 0.904756\n",
      "71 Train accuracy: 0.9042 Val accuracy: 0.904826\n",
      "72 Train accuracy: 0.904 Val accuracy: 0.904904\n",
      "73 Train accuracy: 0.9036 Val accuracy: 0.905012\n",
      "74 Train accuracy: 0.9036 Val accuracy: 0.905034\n",
      "75 Train accuracy: 0.9042 Val accuracy: 0.905054\n",
      "76 Train accuracy: 0.9044 Val accuracy: 0.9051\n",
      "77 Train accuracy: 0.9046 Val accuracy: 0.905132\n",
      "78 Train accuracy: 0.9046 Val accuracy: 0.905212\n",
      "79 Train accuracy: 0.9046 Val accuracy: 0.905278\n",
      "80 Train accuracy: 0.9048 Val accuracy: 0.905284\n",
      "81 Train accuracy: 0.9046 Val accuracy: 0.905338\n",
      "82 Train accuracy: 0.905 Val accuracy: 0.905352\n",
      "83 Train accuracy: 0.9048 Val accuracy: 0.905412\n",
      "84 Train accuracy: 0.9048 Val accuracy: 0.905452\n",
      "85 Train accuracy: 0.9048 Val accuracy: 0.905506\n",
      "86 Train accuracy: 0.9048 Val accuracy: 0.905562\n",
      "87 Train accuracy: 0.905 Val accuracy: 0.905634\n",
      "88 Train accuracy: 0.905 Val accuracy: 0.905654\n",
      "89 Train accuracy: 0.9048 Val accuracy: 0.90574\n",
      "90 Train accuracy: 0.9048 Val accuracy: 0.905776\n",
      "91 Train accuracy: 0.9044 Val accuracy: 0.90581\n",
      "92 Train accuracy: 0.9046 Val accuracy: 0.90585\n",
      "93 Train accuracy: 0.9048 Val accuracy: 0.905872\n",
      "94 Train accuracy: 0.9046 Val accuracy: 0.905908\n",
      "95 Train accuracy: 0.9042 Val accuracy: 0.905928\n",
      "96 Train accuracy: 0.904 Val accuracy: 0.905966\n",
      "97 Train accuracy: 0.904 Val accuracy: 0.905956\n",
      "98 Train accuracy: 0.9044 Val accuracy: 0.905974\n",
      "99 Train accuracy: 0.9044 Val accuracy: 0.906014\n",
      "0.906014\n",
      "A taxa de erro simbólica obtida foi de 9.40%\n"
     ]
    }
   ],
   "source": [
    "init = tf.global_variables_initializer()\n",
    "\n",
    "with tf.Session() as sess:\n",
    "    init.run()\n",
    "    for epoch in range(n_epochs):\n",
    "        for interation in range(np.shape(X_train)[0] // batch_size):\n",
    "            X_batch = X_train[(interation*batch_size):(batch_size*(interation+1))]\n",
    "            y_batch = y_train[(interation*batch_size):(batch_size*(interation+1))]\n",
    "            sess.run(training_op, feed_dict={X: X_batch, y: y_batch})\n",
    "        \n",
    "        acc_train = accuracy.eval(feed_dict={X: X_batch, y: y_batch})\n",
    "        acc_val = accuracy.eval(feed_dict={X: X_test, y: y_test})\n",
    "        print(epoch, \"Train accuracy:\", acc_train, \"Val accuracy:\", acc_val)\n",
    "    acc_val = accuracy.eval(feed_dict={X: X_test, y: y_test})\n",
    "    print(acc_val)\n",
    "    print(f'A taxa de erro simbólica obtida foi de {(1 - acc_val):.2%}')"
   ]
  }
 ],
 "metadata": {
  "kernelspec": {
   "display_name": "Python 3 (ipykernel)",
   "language": "python",
   "name": "python3"
  },
  "language_info": {
   "codemirror_mode": {
    "name": "ipython",
    "version": 3
   },
   "file_extension": ".py",
   "mimetype": "text/x-python",
   "name": "python",
   "nbconvert_exporter": "python",
   "pygments_lexer": "ipython3",
   "version": "3.10.8"
  }
 },
 "nbformat": 4,
 "nbformat_minor": 5
}
